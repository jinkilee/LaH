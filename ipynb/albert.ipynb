{
 "cells": [
  {
   "cell_type": "markdown",
   "metadata": {},
   "source": [
    "reference\n",
    "- https://github.com/huggingface/transformers/blob/master/src/transformers/modeling_albert.py\n",
    "- https://github.com/google-research/ALBERT/blob/master/modeling.py"
   ]
  },
  {
   "cell_type": "code",
   "execution_count": 1,
   "metadata": {},
   "outputs": [],
   "source": [
    "from functools import reduce"
   ]
  },
  {
   "cell_type": "code",
   "execution_count": 2,
   "metadata": {},
   "outputs": [],
   "source": [
    "def get_num_params(model):\n",
    "    n_params = 0\n",
    "    for param in model.parameters():\n",
    "        param_shape = list(param.shape)\n",
    "        n_params += reduce(lambda x, y: x*y, param_shape)\n",
    "    return n_params"
   ]
  },
  {
   "cell_type": "markdown",
   "metadata": {},
   "source": [
    "#### input/output embedding"
   ]
  },
  {
   "cell_type": "code",
   "execution_count": 3,
   "metadata": {},
   "outputs": [
    {
     "data": {
      "application/vnd.jupyter.widget-view+json": {
       "model_id": "4b534b97bf91404d9eea5e3f4fcb6a03",
       "version_major": 2,
       "version_minor": 0
      },
      "text/plain": [
       "HBox(children=(FloatProgress(value=0.0, description='Downloading', max=760289.0, style=ProgressStyle(descripti…"
      ]
     },
     "metadata": {},
     "output_type": "display_data"
    },
    {
     "name": "stdout",
     "output_type": "stream",
     "text": [
      "\n"
     ]
    },
    {
     "data": {
      "application/vnd.jupyter.widget-view+json": {
       "model_id": "b5f6fb6b4b164b0491152574a14251da",
       "version_major": 2,
       "version_minor": 0
      },
      "text/plain": [
       "HBox(children=(FloatProgress(value=0.0, description='Downloading', max=535.0, style=ProgressStyle(description_…"
      ]
     },
     "metadata": {},
     "output_type": "display_data"
    },
    {
     "name": "stdout",
     "output_type": "stream",
     "text": [
      "\n"
     ]
    },
    {
     "data": {
      "application/vnd.jupyter.widget-view+json": {
       "model_id": "110ca34f893a453788cf1136cf217981",
       "version_major": 2,
       "version_minor": 0
      },
      "text/plain": [
       "HBox(children=(FloatProgress(value=0.0, description='Downloading', max=71509304.0, style=ProgressStyle(descrip…"
      ]
     },
     "metadata": {},
     "output_type": "display_data"
    },
    {
     "name": "stdout",
     "output_type": "stream",
     "text": [
      "\n"
     ]
    }
   ],
   "source": [
    "from transformers import AlbertModel, AlbertTokenizer\n",
    "import torch\n",
    "\n",
    "model_nm = 'albert-large-v1'\n",
    "tokenizer = AlbertTokenizer.from_pretrained(model_nm)\n",
    "model = AlbertModel.from_pretrained(model_nm)\n",
    "input_ids = torch.tensor(tokenizer.encode(\"Hello, my dog is cute\", add_special_tokens=True)).unsqueeze(0)  # Batch size 1\n",
    "outputs = model(input_ids)\n",
    "last_hidden_states = outputs[0]  # The last hidden-state is the first element of the output tuple"
   ]
  },
  {
   "cell_type": "code",
   "execution_count": 4,
   "metadata": {},
   "outputs": [
    {
     "data": {
      "text/plain": [
       "torch.Size([1, 8, 1024])"
      ]
     },
     "execution_count": 4,
     "metadata": {},
     "output_type": "execute_result"
    }
   ],
   "source": [
    "last_hidden_states.shape"
   ]
  },
  {
   "cell_type": "code",
   "execution_count": 5,
   "metadata": {},
   "outputs": [
    {
     "data": {
      "text/plain": [
       "torch.Size([1, 8, 128])"
      ]
     },
     "execution_count": 5,
     "metadata": {},
     "output_type": "execute_result"
    }
   ],
   "source": [
    "emb_output = model.embeddings(input_ids)\n",
    "emb_output.shape"
   ]
  },
  {
   "cell_type": "code",
   "execution_count": 6,
   "metadata": {},
   "outputs": [],
   "source": [
    "attention_mask = torch.ones(input_ids.shape)\n",
    "extended_attention_mask = attention_mask.unsqueeze(1).unsqueeze(2)\n",
    "extended_attention_mask = extended_attention_mask.to(dtype=torch.float32)  # fp16 compatibility\n",
    "extended_attention_mask = (1.0 - extended_attention_mask) * -10000.0"
   ]
  },
  {
   "cell_type": "code",
   "execution_count": 7,
   "metadata": {},
   "outputs": [
    {
     "data": {
      "text/plain": [
       "24"
      ]
     },
     "execution_count": 7,
     "metadata": {},
     "output_type": "execute_result"
    }
   ],
   "source": [
    "n_layers = model.encoder.config.num_hidden_layers\n",
    "n_layers"
   ]
  },
  {
   "cell_type": "code",
   "execution_count": 8,
   "metadata": {},
   "outputs": [],
   "source": [
    "head_mask = [None] * n_layers"
   ]
  },
  {
   "cell_type": "code",
   "execution_count": 9,
   "metadata": {},
   "outputs": [],
   "source": [
    "trans = model.encoder(emb_output, extended_attention_mask, head_mask)"
   ]
  },
  {
   "cell_type": "code",
   "execution_count": 10,
   "metadata": {},
   "outputs": [
    {
     "data": {
      "text/plain": [
       "(torch.Size([1, 8, 1024]), tensor(-154.9911, grad_fn=<SumBackward0>))"
      ]
     },
     "execution_count": 10,
     "metadata": {},
     "output_type": "execute_result"
    }
   ],
   "source": [
    "trans[0].shape, trans[0].sum()"
   ]
  },
  {
   "cell_type": "raw",
   "metadata": {},
   "source": [
    "# AlbertTransformer's forward method\n",
    "def forward(self, hidden_states, attention_mask=None, head_mask=None):\n",
    "    hidden_states = self.embedding_hidden_mapping_in(hidden_states)\n",
    "\n",
    "    all_attentions = ()\n",
    "\n",
    "    if self.output_hidden_states:\n",
    "        all_hidden_states = (hidden_states,)\n",
    "\n",
    "    for i in range(self.config.num_hidden_layers):\n",
    "        # Number of layers in a hidden group\n",
    "        layers_per_group = int(self.config.num_hidden_layers / self.config.num_hidden_groups)\n",
    "\n",
    "        # Index of the hidden group\n",
    "        group_idx = int(i / (self.config.num_hidden_layers / self.config.num_hidden_groups))\n",
    "\n",
    "        layer_group_output = self.albert_layer_groups[group_idx](\n",
    "            hidden_states,\n",
    "            attention_mask,\n",
    "            head_mask[group_idx * layers_per_group : (group_idx + 1) * layers_per_group],\n",
    "        )\n",
    "        hidden_states = layer_group_output[0]\n",
    "\n",
    "        if self.output_attentions:\n",
    "            all_attentions = all_attentions + layer_group_output[-1]\n",
    "\n",
    "        if self.output_hidden_states:\n",
    "            all_hidden_states = all_hidden_states + (hidden_states,)"
   ]
  },
  {
   "cell_type": "code",
   "execution_count": 11,
   "metadata": {},
   "outputs": [
    {
     "name": "stdout",
     "output_type": "stream",
     "text": [
      "0 torch.Size([1, 8, 1024]) torch.Size([1, 8, 1024]) torch.Size([1, 8, 1024]) tensor(39.1129, grad_fn=<DistBackward>)\n",
      "1 torch.Size([1, 8, 1024]) torch.Size([1, 8, 1024]) torch.Size([1, 8, 1024]) tensor(20.0344, grad_fn=<DistBackward>)\n",
      "2 torch.Size([1, 8, 1024]) torch.Size([1, 8, 1024]) torch.Size([1, 8, 1024]) tensor(16.1824, grad_fn=<DistBackward>)\n",
      "3 torch.Size([1, 8, 1024]) torch.Size([1, 8, 1024]) torch.Size([1, 8, 1024]) tensor(12.3042, grad_fn=<DistBackward>)\n",
      "4 torch.Size([1, 8, 1024]) torch.Size([1, 8, 1024]) torch.Size([1, 8, 1024]) tensor(9.8303, grad_fn=<DistBackward>)\n",
      "5 torch.Size([1, 8, 1024]) torch.Size([1, 8, 1024]) torch.Size([1, 8, 1024]) tensor(7.6768, grad_fn=<DistBackward>)\n",
      "6 torch.Size([1, 8, 1024]) torch.Size([1, 8, 1024]) torch.Size([1, 8, 1024]) tensor(6.3892, grad_fn=<DistBackward>)\n",
      "7 torch.Size([1, 8, 1024]) torch.Size([1, 8, 1024]) torch.Size([1, 8, 1024]) tensor(5.5773, grad_fn=<DistBackward>)\n",
      "8 torch.Size([1, 8, 1024]) torch.Size([1, 8, 1024]) torch.Size([1, 8, 1024]) tensor(5.1350, grad_fn=<DistBackward>)\n",
      "9 torch.Size([1, 8, 1024]) torch.Size([1, 8, 1024]) torch.Size([1, 8, 1024]) tensor(4.7566, grad_fn=<DistBackward>)\n",
      "10 torch.Size([1, 8, 1024]) torch.Size([1, 8, 1024]) torch.Size([1, 8, 1024]) tensor(4.5074, grad_fn=<DistBackward>)\n",
      "11 torch.Size([1, 8, 1024]) torch.Size([1, 8, 1024]) torch.Size([1, 8, 1024]) tensor(4.4292, grad_fn=<DistBackward>)\n",
      "12 torch.Size([1, 8, 1024]) torch.Size([1, 8, 1024]) torch.Size([1, 8, 1024]) tensor(4.4068, grad_fn=<DistBackward>)\n",
      "13 torch.Size([1, 8, 1024]) torch.Size([1, 8, 1024]) torch.Size([1, 8, 1024]) tensor(4.3860, grad_fn=<DistBackward>)\n",
      "14 torch.Size([1, 8, 1024]) torch.Size([1, 8, 1024]) torch.Size([1, 8, 1024]) tensor(4.3405, grad_fn=<DistBackward>)\n",
      "15 torch.Size([1, 8, 1024]) torch.Size([1, 8, 1024]) torch.Size([1, 8, 1024]) tensor(4.2796, grad_fn=<DistBackward>)\n",
      "16 torch.Size([1, 8, 1024]) torch.Size([1, 8, 1024]) torch.Size([1, 8, 1024]) tensor(4.3363, grad_fn=<DistBackward>)\n",
      "17 torch.Size([1, 8, 1024]) torch.Size([1, 8, 1024]) torch.Size([1, 8, 1024]) tensor(4.4994, grad_fn=<DistBackward>)\n",
      "18 torch.Size([1, 8, 1024]) torch.Size([1, 8, 1024]) torch.Size([1, 8, 1024]) tensor(4.8434, grad_fn=<DistBackward>)\n",
      "19 torch.Size([1, 8, 1024]) torch.Size([1, 8, 1024]) torch.Size([1, 8, 1024]) tensor(5.4376, grad_fn=<DistBackward>)\n",
      "20 torch.Size([1, 8, 1024]) torch.Size([1, 8, 1024]) torch.Size([1, 8, 1024]) tensor(6.2162, grad_fn=<DistBackward>)\n",
      "21 torch.Size([1, 8, 1024]) torch.Size([1, 8, 1024]) torch.Size([1, 8, 1024]) tensor(7.0187, grad_fn=<DistBackward>)\n",
      "22 torch.Size([1, 8, 1024]) torch.Size([1, 8, 1024]) torch.Size([1, 8, 1024]) tensor(7.5306, grad_fn=<DistBackward>)\n",
      "23 torch.Size([1, 8, 1024]) torch.Size([1, 8, 1024]) torch.Size([1, 8, 1024]) tensor(7.4768, grad_fn=<DistBackward>)\n"
     ]
    }
   ],
   "source": [
    "hidden_states = model.encoder.embedding_hidden_mapping_in(emb_output)\n",
    "dist = torch.nn.CosineSimilarity(dim=1, eps=1e-6)\n",
    "distance_list = []\n",
    "for i in range(n_layers):\n",
    "    input_embedding = hidden_states#.view(-1, 8*768)\n",
    "    layer_out = model.encoder.albert_layer_groups[0](\n",
    "        hidden_states,\n",
    "        extended_attention_mask,\n",
    "        head_mask[0*n_layers:(0+1)*n_layers]\n",
    "    )\n",
    "    hidden_states = layer_out[0]\n",
    "    output_embedding = hidden_states#.view(-1, 8*768)\n",
    "    \n",
    "    distance = torch.dist(input_embedding, output_embedding, p=2)\n",
    "    print(i, hidden_states.shape, input_embedding.shape, output_embedding.shape, distance)\n",
    "    distance_list.append(distance)"
   ]
  },
  {
   "cell_type": "code",
   "execution_count": 12,
   "metadata": {},
   "outputs": [
    {
     "data": {
      "image/png": "[encoded data removed]",
      "text/plain": [
       "<Figure size 432x288 with 1 Axes>"
      ]
     },
     "metadata": {
      "needs_background": "light"
     },
     "output_type": "display_data"
    }
   ],
   "source": [
    "import matplotlib.pyplot as plt\n",
    "plt.plot(distance_list)\n",
    "plt.show()"
   ]
  },
  {
   "cell_type": "code",
   "execution_count": 13,
   "metadata": {},
   "outputs": [
    {
     "data": {
      "text/plain": [
       "17683968"
      ]
     },
     "execution_count": 13,
     "metadata": {},
     "output_type": "execute_result"
    }
   ],
   "source": [
    "get_num_params(model)"
   ]
  },
  {
   "cell_type": "markdown",
   "metadata": {},
   "source": [
    "#### can ALBERT do NSP?"
   ]
  },
  {
   "cell_type": "code",
   "execution_count": 14,
   "metadata": {},
   "outputs": [],
   "source": [
    "import sys\n",
    "sys.path.insert(0, '/anything/git/ALBERT/')"
   ]
  },
  {
   "cell_type": "code",
   "execution_count": 16,
   "metadata": {},
   "outputs": [
    {
     "ename": "ModuleNotFoundError",
     "evalue": "No module named 'tensorflow'",
     "output_type": "error",
     "traceback": [
      "\u001b[0;31m---------------------------------------------------------------------------\u001b[0m",
      "\u001b[0;31mModuleNotFoundError\u001b[0m                       Traceback (most recent call last)",
      "\u001b[0;32m<ipython-input-16-848d3136c195>\u001b[0m in \u001b[0;36m<module>\u001b[0;34m\u001b[0m\n\u001b[0;32m----> 1\u001b[0;31m \u001b[0;32mimport\u001b[0m \u001b[0mtensorflow\u001b[0m \u001b[0;32mas\u001b[0m \u001b[0mtf\u001b[0m\u001b[0;34m\u001b[0m\u001b[0;34m\u001b[0m\u001b[0m\n\u001b[0m\u001b[1;32m      2\u001b[0m \u001b[0;34m\u001b[0m\u001b[0m\n\u001b[1;32m      3\u001b[0m \u001b[0;32mimport\u001b[0m \u001b[0mtensorflow\u001b[0m \u001b[0;32mas\u001b[0m \u001b[0mtf\u001b[0m\u001b[0;34m\u001b[0m\u001b[0;34m\u001b[0m\u001b[0m\n\u001b[1;32m      4\u001b[0m \u001b[0;32mimport\u001b[0m \u001b[0mmodeling\u001b[0m\u001b[0;34m\u001b[0m\u001b[0;34m\u001b[0m\u001b[0m\n\u001b[1;32m      5\u001b[0m \u001b[0;32mimport\u001b[0m \u001b[0mnumpy\u001b[0m \u001b[0;32mas\u001b[0m \u001b[0mnp\u001b[0m\u001b[0;34m\u001b[0m\u001b[0;34m\u001b[0m\u001b[0m\n",
      "\u001b[0;31mModuleNotFoundError\u001b[0m: No module named 'tensorflow'"
     ]
    }
   ],
   "source": [
    "import tensorflow as tf\n",
    "\n",
    "import tensorflow as tf\n",
    "import modeling\n",
    "import numpy as np\n",
    "import random\n",
    "import modeling\n",
    "\n",
    "from tokenization import FullTokenizer\n",
    "from load_dataset import create_training_instances"
   ]
  },
  {
   "cell_type": "code",
   "execution_count": 3,
   "metadata": {},
   "outputs": [],
   "source": [
    "model_nm = 'albert_large'\n",
    "model_nm = 'albert_xxlarge'"
   ]
  },
  {
   "cell_type": "code",
   "execution_count": 4,
   "metadata": {},
   "outputs": [],
   "source": [
    "vocab_file = '/anything/git/ALBERT/models/{}/30k-clean.vocab'.format(model_nm)\n",
    "tokenizer = FullTokenizer(vocab_file=vocab_file)\n",
    "\n",
    "spm_file = '/anything/git/ALBERT/models/{}/30k-clean.model'.format(model_nm)\n",
    "tokenizer = FullTokenizer(vocab_file=None, spm_model_file=spm_file)"
   ]
  },
  {
   "cell_type": "code",
   "execution_count": 5,
   "metadata": {},
   "outputs": [],
   "source": [
    "config = modeling.AlbertConfig.from_json_file('/anything/git/ALBERT/models/{}/albert_config.json'.format(model_nm))"
   ]
  },
  {
   "cell_type": "code",
   "execution_count": 6,
   "metadata": {},
   "outputs": [],
   "source": [
    "max_seq_length = config.max_position_embeddings\n",
    "dupe_factor = 40\n",
    "short_seq_prob = 0.1\n",
    "masked_lm_prob = 0.15\n",
    "max_predictions_per_seq = 20\n",
    "rng = random.Random(100)"
   ]
  },
  {
   "cell_type": "code",
   "execution_count": 7,
   "metadata": {},
   "outputs": [],
   "source": [
    "# SOP label should be 0\n",
    "sent_1 = 'How old are you?'\n",
    "sent_2 = 'I am 35 years old'\n",
    "\n",
    "# SOP label should be 1\n",
    "sent_1 = 'How old are you?'\n",
    "sent_2 = 'The Eiffel Tower is in Paris'\n",
    "\n",
    "# SOP label should be 0\n",
    "# sent_1 = 'is Obama the president of the US?'\n",
    "# sent_2 = 'No but he was'"
   ]
  },
  {
   "cell_type": "code",
   "execution_count": 8,
   "metadata": {},
   "outputs": [],
   "source": [
    "# right order\n",
    "tokens_1 = tokenizer.tokenize(sent_1)\n",
    "tokens_2 = tokenizer.tokenize(sent_2)\n",
    "tokens = ['[CLS]'] + tokens_1 + ['[SEP]'] + tokens_2 + ['[SEP]']\n",
    "input_ids = tokenizer.convert_tokens_to_ids(tokens)\n",
    "segment_ids = [0] * (len(tokens_1) + 2) + [1] * (len(tokens_2) + 1)\n",
    "token_type_ids = [1] * len(segment_ids)\n",
    "label = 0"
   ]
  },
  {
   "cell_type": "code",
   "execution_count": 9,
   "metadata": {},
   "outputs": [],
   "source": [
    "# reverse order\n",
    "tokens_1 = tokenizer.tokenize(sent_1)\n",
    "tokens_2 = tokenizer.tokenize(sent_2)\n",
    "tokens = ['[CLS]'] + tokens_2 + ['[SEP]'] + tokens_1 + ['[SEP]']\n",
    "input_ids = tokenizer.convert_tokens_to_ids(tokens)\n",
    "segment_ids = [0] * (len(tokens_2) + 2) + [1] * (len(tokens_1) + 1)\n",
    "token_type_ids = [1] * len(segment_ids)\n",
    "label = 1"
   ]
  },
  {
   "cell_type": "code",
   "execution_count": 9,
   "metadata": {},
   "outputs": [
    {
     "name": "stdout",
     "output_type": "stream",
     "text": [
      "[2, 13, 1, 3581, 315, 50, 42, 60, 3, 13, 1, 438, 13, 1, 6021, 532, 13, 1, 3581, 106, 25, 19, 13, 1, 14688, 3]\n",
      "[0, 0, 0, 0, 0, 0, 0, 0, 0, 1, 1, 1, 1, 1, 1, 1, 1, 1, 1, 1, 1, 1, 1, 1, 1, 1]\n",
      "[1, 1, 1, 1, 1, 1, 1, 1, 1, 1, 1, 1, 1, 1, 1, 1, 1, 1, 1, 1, 1, 1, 1, 1, 1, 1]\n",
      "0\n"
     ]
    }
   ],
   "source": [
    "print(input_ids)\n",
    "print(segment_ids)\n",
    "print(token_type_ids)\n",
    "print(label)"
   ]
  },
  {
   "cell_type": "code",
   "execution_count": 10,
   "metadata": {},
   "outputs": [],
   "source": [
    "# Already been converted from strings into ids\n",
    "input_ids = tf.constant([input_ids])\n",
    "segment_ids = tf.constant([segment_ids])\n",
    "token_type_ids = tf.constant([token_type_ids])\n",
    "input_label = tf.constant([label])"
   ]
  },
  {
   "cell_type": "code",
   "execution_count": 11,
   "metadata": {},
   "outputs": [
    {
     "name": "stdout",
     "output_type": "stream",
     "text": [
      "(1, 64, 26, 64) (1, 64, 26, 64)\n",
      "(1, 64, 26, 64) (1, 64, 26, 64)\n",
      "(1, 64, 26, 64) (1, 64, 26, 64)\n",
      "(1, 64, 26, 64) (1, 64, 26, 64)\n",
      "(1, 64, 26, 64) (1, 64, 26, 64)\n",
      "(1, 64, 26, 64) (1, 64, 26, 64)\n",
      "(1, 64, 26, 64) (1, 64, 26, 64)\n",
      "(1, 64, 26, 64) (1, 64, 26, 64)\n"
     ]
    },
    {
     "name": "stderr",
     "output_type": "stream",
     "text": [
      "WARNING: Logging before flag parsing goes to stderr.\n",
      "W0202 13:35:22.587784 139701824845568 deprecation.py:323] From /anything/git/ALBERT/modeling.py:253: dense (from tensorflow.python.layers.core) is deprecated and will be removed in a future version.\n",
      "Instructions for updating:\n",
      "Use keras.layers.Dense instead.\n",
      "W0202 13:35:22.589021 139701824845568 deprecation.py:323] From /usr/local/lib/python3.5/dist-packages/tensorflow_core/python/layers/core.py:187: Layer.apply (from tensorflow.python.keras.engine.base_layer) is deprecated and will be removed in a future version.\n",
      "Instructions for updating:\n",
      "Please use `layer.__call__` method instead.\n"
     ]
    },
    {
     "name": "stdout",
     "output_type": "stream",
     "text": [
      "(1, 64, 26, 64) (1, 64, 26, 64)\n",
      "(1, 64, 26, 64) (1, 64, 26, 64)\n",
      "(1, 64, 26, 64) (1, 64, 26, 64)\n",
      "(1, 64, 26, 64) (1, 64, 26, 64)\n"
     ]
    }
   ],
   "source": [
    "model = modeling.AlbertModel(config=config, is_training=False,\n",
    "  input_ids=input_ids, input_mask=token_type_ids, token_type_ids=token_type_ids)"
   ]
  },
  {
   "cell_type": "code",
   "execution_count": 12,
   "metadata": {},
   "outputs": [],
   "source": [
    "def get_sentence_order_output(albert_config, input_tensor, labels):\n",
    "    with tf.variable_scope(\"cls/seq_relationship\"):\n",
    "        output_weights = tf.get_variable(\n",
    "            \"output_weights\",\n",
    "            shape=[2, albert_config.hidden_size],\n",
    "            initializer=modeling.create_initializer(\n",
    "                albert_config.initializer_range))\n",
    "        output_bias = tf.get_variable(\n",
    "            \"output_bias\", shape=[2], initializer=tf.zeros_initializer())\n",
    "        logits = tf.matmul(input_tensor, output_weights, transpose_b=True)\n",
    "        logits = tf.nn.bias_add(logits, output_bias)\n",
    "        log_probs = tf.nn.log_softmax(logits, axis=-1)\n",
    "        labels = tf.reshape(labels, [-1])\n",
    "        one_hot_labels = tf.one_hot(labels, depth=2, dtype=tf.float32)\n",
    "        per_example_loss = -tf.reduce_sum(one_hot_labels * log_probs, axis=-1)\n",
    "        loss = tf.reduce_mean(per_example_loss)\n",
    "        return (loss, per_example_loss, log_probs, output_weights)"
   ]
  },
  {
   "cell_type": "code",
   "execution_count": 13,
   "metadata": {},
   "outputs": [],
   "source": [
    "(sentence_order_loss, sentence_order_example_loss, sentence_order_log_probs, out_weight) = get_sentence_order_output(config, model.get_pooled_output(), input_label)"
   ]
  },
  {
   "cell_type": "code",
   "execution_count": 14,
   "metadata": {},
   "outputs": [],
   "source": [
    "# Class used to save and/or restore Tensor Variables\n",
    "saver = tf.train.Saver()"
   ]
  },
  {
   "cell_type": "code",
   "execution_count": 15,
   "metadata": {},
   "outputs": [
    {
     "name": "stdout",
     "output_type": "stream",
     "text": [
      "0.30321643 (1, 2) [[-0.30321643 -1.3410888 ]] [[0.73843926 0.26156074]]\n",
      "0 0\n"
     ]
    }
   ],
   "source": [
    "with tf.Session() as sess:\n",
    "    init_op = tf.group(tf.global_variables_initializer(), tf.local_variables_initializer())\n",
    "    sess.run(init_op)\n",
    "    saver.restore(sess, '/anything/git/ALBERT/models/{}/model.ckpt-best'.format(model_nm))\n",
    "    \n",
    "    sop_loss, sop_prob, ow = sess.run([sentence_order_loss, sentence_order_log_probs, out_weight])\n",
    "    pred = 0 if sop_prob[0][0] > sop_prob[0][1] else 1\n",
    "    print(sop_loss, sop_prob.shape, sop_prob, np.exp(sop_prob))\n",
    "    print(pred, label)"
   ]
  },
  {
   "cell_type": "code",
   "execution_count": null,
   "metadata": {},
   "outputs": [],
   "source": []
  },
  {
   "cell_type": "code",
   "execution_count": null,
   "metadata": {},
   "outputs": [],
   "source": []
  }
 ],
 "metadata": {
  "kernelspec": {
   "display_name": "albert_ipynb",
   "language": "python",
   "name": "env_bert-like"
  },
  "language_info": {
   "codemirror_mode": {
    "name": "ipython",
    "version": 3
   },
   "file_extension": ".py",
   "mimetype": "text/x-python",
   "name": "python",
   "nbconvert_exporter": "python",
   "pygments_lexer": "ipython3",
   "version": "3.6.9"
  }
 },
 "nbformat": 4,
 "nbformat_minor": 2
}
