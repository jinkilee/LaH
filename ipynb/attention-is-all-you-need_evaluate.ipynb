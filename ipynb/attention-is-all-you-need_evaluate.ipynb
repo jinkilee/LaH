{
 "cells": [
  {
   "cell_type": "code",
   "execution_count": 1,
   "metadata": {},
   "outputs": [],
   "source": [
    "import sys\n",
    "sys.path.insert(0, '../attention-is-all-you-need/')\n",
    "sys.path.insert(0, '../modeling/')\n",
    "sys.argv = ['']"
   ]
  },
  {
   "cell_type": "code",
   "execution_count": 2,
   "metadata": {},
   "outputs": [],
   "source": [
    "import os\n",
    "import dill\n",
    "import random\n",
    "import glob\n",
    "import setting\n",
    "import torch\n",
    "import numpy as np\n",
    "import sentencepiece as spm\n",
    "import argparse\n",
    "import torch.distributed as dist\n",
    "#import torch.multiprocessing as mp\n",
    "import logging\n",
    "import logging.config\n",
    "\n",
    "from visdom import Visdom\n",
    "from utils import fix_torch_randomness, get_sentencepiece, get_number_of_params\n",
    "from transformer import make_model, subsequent_mask\n",
    "from dataset import load_dataset_aihub, KRENDataset, KRENField, MyIterator, batch_size_fn\n",
    "from torch.nn.parallel import DistributedDataParallel as DDP\n",
    "from torch.autograd import Variable\n",
    "from setting import *\n",
    "from feature import *"
   ]
  },
  {
   "cell_type": "code",
   "execution_count": 3,
   "metadata": {},
   "outputs": [],
   "source": [
    "# define logger\n",
    "logging.config.fileConfig('../attention-is-all-you-need/logging.conf')\n",
    "log = logging.getLogger('LaH')"
   ]
  },
  {
   "cell_type": "code",
   "execution_count": 4,
   "metadata": {},
   "outputs": [],
   "source": [
    "# define ENV variables\n",
    "os.environ['MASTER_ADDR'] = '127.0.0.1'\n",
    "os.environ['MASTER_PORT'] = '10002'"
   ]
  },
  {
   "cell_type": "code",
   "execution_count": 5,
   "metadata": {},
   "outputs": [],
   "source": [
    "def greedy_decode(model, src, src_mask, max_len, start_symbol):\n",
    "    memory = model.encode(src, src_mask)\n",
    "    ys = torch.ones(1, 1).fill_(start_symbol).type_as(src.data)\n",
    "    for i in range(max_len-1):\n",
    "        out = model.decode(memory, src_mask,\n",
    "                           Variable(ys),\n",
    "                           Variable(subsequent_mask(ys.size(1))\n",
    "                                    .type_as(src.data)))\n",
    "        prob = model.generator(out[:, -1])\n",
    "        _, next_word = torch.max(prob, dim = 1)\n",
    "        next_word = next_word.item()\n",
    "        ys = torch.cat([ys,\n",
    "                        torch.ones(1, 1).type_as(src.data).fill_(next_word)], dim=1)\n",
    "    return ys"
   ]
  },
  {
   "cell_type": "code",
   "execution_count": 6,
   "metadata": {},
   "outputs": [
    {
     "data": {
      "text/plain": [
       "_StoreAction(option_strings=['--small_model'], dest='small_model', nargs=None, const=None, default=False, type=<class 'bool'>, choices=None, help=None, metavar=None)"
      ]
     },
     "execution_count": 6,
     "metadata": {},
     "output_type": "execute_result"
    }
   ],
   "source": [
    "parser = argparse.ArgumentParser()\n",
    "parser.add_argument('--world_size', default=setting.world_size, type=int)\n",
    "parser.add_argument('--multi_gpu', default=setting.multi_gpu, type=bool)\n",
    "parser.add_argument('--modelnm', default='a.bin', type=str)\n",
    "parser.add_argument('--N', default=setting.N, type=int)\n",
    "parser.add_argument('--d_model', default=setting.d_model, type=int)\n",
    "parser.add_argument('--d_ff', default=setting.d_ff, type=int)\n",
    "parser.add_argument('--h', default=setting.h, type=int)\n",
    "parser.add_argument('--dropout', default=0.0, type=float)\n",
    "parser.add_argument('--small_model', default=False, type=bool)"
   ]
  },
  {
   "cell_type": "code",
   "execution_count": 7,
   "metadata": {},
   "outputs": [],
   "source": [
    "args = parser.parse_args()"
   ]
  },
  {
   "cell_type": "code",
   "execution_count": 8,
   "metadata": {},
   "outputs": [],
   "source": [
    "sent_pairs = load_dataset_aihub(path='../attention-is-all-you-need/data/')\n",
    "#sent_pairs = load_dataset_aihub()"
   ]
  },
  {
   "cell_type": "code",
   "execution_count": 9,
   "metadata": {},
   "outputs": [
    {
     "data": {
      "text/plain": [
       "True"
      ]
     },
     "execution_count": 9,
     "metadata": {},
     "output_type": "execute_result"
    }
   ],
   "source": [
    "src_spm = spm.SentencePieceProcessor()\n",
    "trg_spm = spm.SentencePieceProcessor()\n",
    "src_spm.Load('../attention-is-all-you-need/spm/{}.model'.format(src_prefix))\n",
    "trg_spm.Load('../attention-is-all-you-need/spm/{}.model'.format(trg_prefix))"
   ]
  },
  {
   "cell_type": "code",
   "execution_count": 10,
   "metadata": {},
   "outputs": [],
   "source": [
    "inp_lang, out_lang = src_spm, trg_spm"
   ]
  },
  {
   "cell_type": "code",
   "execution_count": 11,
   "metadata": {},
   "outputs": [
    {
     "name": "stdout",
     "output_type": "stream",
     "text": [
      "[INFO] (<ipython-input-11-14a64b6c78f5>:4) > loaded input sentencepiece model: spm-src-50000\n",
      "[INFO] (<ipython-input-11-14a64b6c78f5>:5) > loaded output sentencepiece model: spm-trg-32000\n"
     ]
    }
   ],
   "source": [
    "extra_options = 'bos:eos' #'reverse:bos:eos'\n",
    "#src_spm.SetEncodeExtraOptions(extra_options)\n",
    "trg_spm.SetEncodeExtraOptions(extra_options)\n",
    "log.info('loaded input sentencepiece model: {}'.format(src_prefix))\n",
    "log.info('loaded output sentencepiece model: {}'.format(trg_prefix))"
   ]
  },
  {
   "cell_type": "code",
   "execution_count": 12,
   "metadata": {},
   "outputs": [
    {
     "name": "stdout",
     "output_type": "stream",
     "text": [
      "[INFO] (<ipython-input-12-47613aab77f2>:4) > valid_sent_pairs: 13253\n"
     ]
    }
   ],
   "source": [
    "# split train/valid sentence pairs\n",
    "n_train = int(len(sent_pairs) * 0.8)\n",
    "valid_sent_pairs = sent_pairs[n_train:]\n",
    "log.info('valid_sent_pairs: {}'.format(len(valid_sent_pairs)))"
   ]
  },
  {
   "cell_type": "code",
   "execution_count": 13,
   "metadata": {},
   "outputs": [],
   "source": [
    "# these are used for defining tokenize method and some reserved words\n",
    "SRC = KRENField(pad_token='<pad>')\n",
    "TRG = KRENField(pad_token='<pad>')"
   ]
  },
  {
   "cell_type": "code",
   "execution_count": 14,
   "metadata": {},
   "outputs": [],
   "source": [
    "SRC.decode = inp_lang.DecodeIds\n",
    "TRG.decode = out_lang.DecodeIds\n",
    "SRC.encode = inp_lang.EncodeAsIds\n",
    "TRG.encode = out_lang.EncodeAsIds"
   ]
  },
  {
   "cell_type": "code",
   "execution_count": 15,
   "metadata": {},
   "outputs": [
    {
     "name": "stdout",
     "output_type": "stream",
     "text": [
      "[INFO] (<ipython-input-15-a799ae4d4d42>:5) > input vocab was loaded: spm/spm-src-50000.spm\n",
      "[INFO] (<ipython-input-15-a799ae4d4d42>:6) > output vocab was loaded: spm/spm-trg-32000.spm\n"
     ]
    }
   ],
   "source": [
    "src_vocab = torch.load('../attention-is-all-you-need/spm/{}.spm'.format(src_prefix), pickle_module=dill)\n",
    "trg_vocab = torch.load('../attention-is-all-you-need/spm/{}.spm'.format(trg_prefix), pickle_module=dill)\n",
    "SRC.vocab = src_vocab\n",
    "TRG.vocab = trg_vocab\n",
    "log.info('input vocab was loaded: spm/{}.spm'.format(src_prefix))\n",
    "log.info('output vocab was loaded: spm/{}.spm'.format(trg_prefix))"
   ]
  },
  {
   "cell_type": "code",
   "execution_count": 16,
   "metadata": {},
   "outputs": [
    {
     "name": "stderr",
     "output_type": "stream",
     "text": [
      "Encoding as pieces: 100%|██████████| 10273/10273 [00:00<00:00, 16863.66it/s]\n",
      "Encoding as pieces: 100%|██████████| 1249/1249 [00:00<00:00, 16924.97it/s]\n",
      "Encoding as pieces: 100%|██████████| 1254/1254 [00:00<00:00, 16846.21it/s]\n"
     ]
    }
   ],
   "source": [
    "# make dataloader from KRENDataset\n",
    "train, valid, test = KRENDataset.splits(sent_pairs, (SRC, TRG), inp_lang, out_lang, encoding_type='pieces')\n",
    "valid_iter = MyIterator(valid, batch_size=100, device=0,\n",
    "                        repeat=False, sort_key=lambda x: (len(x.src), len(x.trg)),\n",
    "                        batch_size_fn=batch_size_fn, train=False)"
   ]
  },
  {
   "cell_type": "code",
   "execution_count": 17,
   "metadata": {},
   "outputs": [],
   "source": [
    "# fix torch randomness\n",
    "fix_torch_randomness()"
   ]
  },
  {
   "cell_type": "code",
   "execution_count": 18,
   "metadata": {},
   "outputs": [
    {
     "name": "stdout",
     "output_type": "stream",
     "text": [
      "[INFO] (<ipython-input-18-fe544bfaea37>:4) > inp_n_words: 50000 out_n_words: 32000\n"
     ]
    }
   ],
   "source": [
    "# define input/output size\n",
    "args.inp_n_words = src_vocab_size\n",
    "args.out_n_words = trg_vocab_size\n",
    "log.info('inp_n_words: {} out_n_words: {}'.format(args.inp_n_words, args.out_n_words))"
   ]
  },
  {
   "cell_type": "code",
   "execution_count": 19,
   "metadata": {},
   "outputs": [
    {
     "name": "stderr",
     "output_type": "stream",
     "text": [
      "../modeling/transformer.py:27: UserWarning: nn.init.xavier_uniform is now deprecated in favor of nn.init.xavier_uniform_.\n",
      "  nn.init.xavier_uniform(p)\n"
     ]
    }
   ],
   "source": [
    "if False:\n",
    "    model = make_model(\n",
    "        args.inp_n_words,\n",
    "        args.out_n_words,\n",
    "        dropout=args.dropout)\n",
    "else:\n",
    "    model = make_model(\n",
    "        args.inp_n_words,\n",
    "        args.out_n_words,\n",
    "        N=N,\n",
    "        d_model=args.d_model,\n",
    "        d_ff=args.d_ff,\n",
    "        h=args.h,\n",
    "        dropout=args.dropout)"
   ]
  },
  {
   "cell_type": "code",
   "execution_count": 20,
   "metadata": {},
   "outputs": [
    {
     "data": {
      "text/plain": [
       "IncompatibleKeys(missing_keys=[], unexpected_keys=[])"
      ]
     },
     "execution_count": 20,
     "metadata": {},
     "output_type": "execute_result"
    }
   ],
   "source": [
    "model_name_full_path = '../attention-is-all-you-need/models/final_model.bin'\n",
    "device = torch.device('cpu')\n",
    "checkpoint = torch.load(model_name_full_path, map_location=device)\n",
    "state_dict = checkpoint['state_dict']\n",
    "model.load_state_dict(state_dict)\n",
    "#model.cuda()"
   ]
  },
  {
   "cell_type": "code",
   "execution_count": 21,
   "metadata": {},
   "outputs": [
    {
     "data": {
      "text/plain": [
       "EncoderDecoder(\n",
       "  (encoder): Encoder(\n",
       "    (layers): ModuleList(\n",
       "      (0): EncoderLayer(\n",
       "        (self_attn): MultiHeadedAttention(\n",
       "          (linears): ModuleList(\n",
       "            (0): Linear(in_features=1024, out_features=1024, bias=True)\n",
       "            (1): Linear(in_features=1024, out_features=1024, bias=True)\n",
       "            (2): Linear(in_features=1024, out_features=1024, bias=True)\n",
       "            (3): Linear(in_features=1024, out_features=1024, bias=True)\n",
       "          )\n",
       "          (dropout): Dropout(p=0.1)\n",
       "        )\n",
       "        (feed_forward): PositionwiseFeedForward(\n",
       "          (w_1): Linear(in_features=1024, out_features=4096, bias=True)\n",
       "          (w_2): Linear(in_features=4096, out_features=1024, bias=True)\n",
       "          (dropout): Dropout(p=0.0)\n",
       "        )\n",
       "        (sublayer): ModuleList(\n",
       "          (0): SublayerConnection(\n",
       "            (norm): LayerNorm()\n",
       "            (dropout): Dropout(p=0.0)\n",
       "          )\n",
       "          (1): SublayerConnection(\n",
       "            (norm): LayerNorm()\n",
       "            (dropout): Dropout(p=0.0)\n",
       "          )\n",
       "        )\n",
       "      )\n",
       "      (1): EncoderLayer(\n",
       "        (self_attn): MultiHeadedAttention(\n",
       "          (linears): ModuleList(\n",
       "            (0): Linear(in_features=1024, out_features=1024, bias=True)\n",
       "            (1): Linear(in_features=1024, out_features=1024, bias=True)\n",
       "            (2): Linear(in_features=1024, out_features=1024, bias=True)\n",
       "            (3): Linear(in_features=1024, out_features=1024, bias=True)\n",
       "          )\n",
       "          (dropout): Dropout(p=0.1)\n",
       "        )\n",
       "        (feed_forward): PositionwiseFeedForward(\n",
       "          (w_1): Linear(in_features=1024, out_features=4096, bias=True)\n",
       "          (w_2): Linear(in_features=4096, out_features=1024, bias=True)\n",
       "          (dropout): Dropout(p=0.0)\n",
       "        )\n",
       "        (sublayer): ModuleList(\n",
       "          (0): SublayerConnection(\n",
       "            (norm): LayerNorm()\n",
       "            (dropout): Dropout(p=0.0)\n",
       "          )\n",
       "          (1): SublayerConnection(\n",
       "            (norm): LayerNorm()\n",
       "            (dropout): Dropout(p=0.0)\n",
       "          )\n",
       "        )\n",
       "      )\n",
       "      (2): EncoderLayer(\n",
       "        (self_attn): MultiHeadedAttention(\n",
       "          (linears): ModuleList(\n",
       "            (0): Linear(in_features=1024, out_features=1024, bias=True)\n",
       "            (1): Linear(in_features=1024, out_features=1024, bias=True)\n",
       "            (2): Linear(in_features=1024, out_features=1024, bias=True)\n",
       "            (3): Linear(in_features=1024, out_features=1024, bias=True)\n",
       "          )\n",
       "          (dropout): Dropout(p=0.1)\n",
       "        )\n",
       "        (feed_forward): PositionwiseFeedForward(\n",
       "          (w_1): Linear(in_features=1024, out_features=4096, bias=True)\n",
       "          (w_2): Linear(in_features=4096, out_features=1024, bias=True)\n",
       "          (dropout): Dropout(p=0.0)\n",
       "        )\n",
       "        (sublayer): ModuleList(\n",
       "          (0): SublayerConnection(\n",
       "            (norm): LayerNorm()\n",
       "            (dropout): Dropout(p=0.0)\n",
       "          )\n",
       "          (1): SublayerConnection(\n",
       "            (norm): LayerNorm()\n",
       "            (dropout): Dropout(p=0.0)\n",
       "          )\n",
       "        )\n",
       "      )\n",
       "      (3): EncoderLayer(\n",
       "        (self_attn): MultiHeadedAttention(\n",
       "          (linears): ModuleList(\n",
       "            (0): Linear(in_features=1024, out_features=1024, bias=True)\n",
       "            (1): Linear(in_features=1024, out_features=1024, bias=True)\n",
       "            (2): Linear(in_features=1024, out_features=1024, bias=True)\n",
       "            (3): Linear(in_features=1024, out_features=1024, bias=True)\n",
       "          )\n",
       "          (dropout): Dropout(p=0.1)\n",
       "        )\n",
       "        (feed_forward): PositionwiseFeedForward(\n",
       "          (w_1): Linear(in_features=1024, out_features=4096, bias=True)\n",
       "          (w_2): Linear(in_features=4096, out_features=1024, bias=True)\n",
       "          (dropout): Dropout(p=0.0)\n",
       "        )\n",
       "        (sublayer): ModuleList(\n",
       "          (0): SublayerConnection(\n",
       "            (norm): LayerNorm()\n",
       "            (dropout): Dropout(p=0.0)\n",
       "          )\n",
       "          (1): SublayerConnection(\n",
       "            (norm): LayerNorm()\n",
       "            (dropout): Dropout(p=0.0)\n",
       "          )\n",
       "        )\n",
       "      )\n",
       "      (4): EncoderLayer(\n",
       "        (self_attn): MultiHeadedAttention(\n",
       "          (linears): ModuleList(\n",
       "            (0): Linear(in_features=1024, out_features=1024, bias=True)\n",
       "            (1): Linear(in_features=1024, out_features=1024, bias=True)\n",
       "            (2): Linear(in_features=1024, out_features=1024, bias=True)\n",
       "            (3): Linear(in_features=1024, out_features=1024, bias=True)\n",
       "          )\n",
       "          (dropout): Dropout(p=0.1)\n",
       "        )\n",
       "        (feed_forward): PositionwiseFeedForward(\n",
       "          (w_1): Linear(in_features=1024, out_features=4096, bias=True)\n",
       "          (w_2): Linear(in_features=4096, out_features=1024, bias=True)\n",
       "          (dropout): Dropout(p=0.0)\n",
       "        )\n",
       "        (sublayer): ModuleList(\n",
       "          (0): SublayerConnection(\n",
       "            (norm): LayerNorm()\n",
       "            (dropout): Dropout(p=0.0)\n",
       "          )\n",
       "          (1): SublayerConnection(\n",
       "            (norm): LayerNorm()\n",
       "            (dropout): Dropout(p=0.0)\n",
       "          )\n",
       "        )\n",
       "      )\n",
       "      (5): EncoderLayer(\n",
       "        (self_attn): MultiHeadedAttention(\n",
       "          (linears): ModuleList(\n",
       "            (0): Linear(in_features=1024, out_features=1024, bias=True)\n",
       "            (1): Linear(in_features=1024, out_features=1024, bias=True)\n",
       "            (2): Linear(in_features=1024, out_features=1024, bias=True)\n",
       "            (3): Linear(in_features=1024, out_features=1024, bias=True)\n",
       "          )\n",
       "          (dropout): Dropout(p=0.1)\n",
       "        )\n",
       "        (feed_forward): PositionwiseFeedForward(\n",
       "          (w_1): Linear(in_features=1024, out_features=4096, bias=True)\n",
       "          (w_2): Linear(in_features=4096, out_features=1024, bias=True)\n",
       "          (dropout): Dropout(p=0.0)\n",
       "        )\n",
       "        (sublayer): ModuleList(\n",
       "          (0): SublayerConnection(\n",
       "            (norm): LayerNorm()\n",
       "            (dropout): Dropout(p=0.0)\n",
       "          )\n",
       "          (1): SublayerConnection(\n",
       "            (norm): LayerNorm()\n",
       "            (dropout): Dropout(p=0.0)\n",
       "          )\n",
       "        )\n",
       "      )\n",
       "    )\n",
       "    (norm): LayerNorm()\n",
       "  )\n",
       "  (decoder): Decoder(\n",
       "    (layers): ModuleList(\n",
       "      (0): DecoderLayer(\n",
       "        (self_attn): MultiHeadedAttention(\n",
       "          (linears): ModuleList(\n",
       "            (0): Linear(in_features=1024, out_features=1024, bias=True)\n",
       "            (1): Linear(in_features=1024, out_features=1024, bias=True)\n",
       "            (2): Linear(in_features=1024, out_features=1024, bias=True)\n",
       "            (3): Linear(in_features=1024, out_features=1024, bias=True)\n",
       "          )\n",
       "          (dropout): Dropout(p=0.1)\n",
       "        )\n",
       "        (src_attn): MultiHeadedAttention(\n",
       "          (linears): ModuleList(\n",
       "            (0): Linear(in_features=1024, out_features=1024, bias=True)\n",
       "            (1): Linear(in_features=1024, out_features=1024, bias=True)\n",
       "            (2): Linear(in_features=1024, out_features=1024, bias=True)\n",
       "            (3): Linear(in_features=1024, out_features=1024, bias=True)\n",
       "          )\n",
       "          (dropout): Dropout(p=0.1)\n",
       "        )\n",
       "        (feed_forward): PositionwiseFeedForward(\n",
       "          (w_1): Linear(in_features=1024, out_features=4096, bias=True)\n",
       "          (w_2): Linear(in_features=4096, out_features=1024, bias=True)\n",
       "          (dropout): Dropout(p=0.0)\n",
       "        )\n",
       "        (sublayer): ModuleList(\n",
       "          (0): SublayerConnection(\n",
       "            (norm): LayerNorm()\n",
       "            (dropout): Dropout(p=0.0)\n",
       "          )\n",
       "          (1): SublayerConnection(\n",
       "            (norm): LayerNorm()\n",
       "            (dropout): Dropout(p=0.0)\n",
       "          )\n",
       "          (2): SublayerConnection(\n",
       "            (norm): LayerNorm()\n",
       "            (dropout): Dropout(p=0.0)\n",
       "          )\n",
       "        )\n",
       "      )\n",
       "      (1): DecoderLayer(\n",
       "        (self_attn): MultiHeadedAttention(\n",
       "          (linears): ModuleList(\n",
       "            (0): Linear(in_features=1024, out_features=1024, bias=True)\n",
       "            (1): Linear(in_features=1024, out_features=1024, bias=True)\n",
       "            (2): Linear(in_features=1024, out_features=1024, bias=True)\n",
       "            (3): Linear(in_features=1024, out_features=1024, bias=True)\n",
       "          )\n",
       "          (dropout): Dropout(p=0.1)\n",
       "        )\n",
       "        (src_attn): MultiHeadedAttention(\n",
       "          (linears): ModuleList(\n",
       "            (0): Linear(in_features=1024, out_features=1024, bias=True)\n",
       "            (1): Linear(in_features=1024, out_features=1024, bias=True)\n",
       "            (2): Linear(in_features=1024, out_features=1024, bias=True)\n",
       "            (3): Linear(in_features=1024, out_features=1024, bias=True)\n",
       "          )\n",
       "          (dropout): Dropout(p=0.1)\n",
       "        )\n",
       "        (feed_forward): PositionwiseFeedForward(\n",
       "          (w_1): Linear(in_features=1024, out_features=4096, bias=True)\n",
       "          (w_2): Linear(in_features=4096, out_features=1024, bias=True)\n",
       "          (dropout): Dropout(p=0.0)\n",
       "        )\n",
       "        (sublayer): ModuleList(\n",
       "          (0): SublayerConnection(\n",
       "            (norm): LayerNorm()\n",
       "            (dropout): Dropout(p=0.0)\n",
       "          )\n",
       "          (1): SublayerConnection(\n",
       "            (norm): LayerNorm()\n",
       "            (dropout): Dropout(p=0.0)\n",
       "          )\n",
       "          (2): SublayerConnection(\n",
       "            (norm): LayerNorm()\n",
       "            (dropout): Dropout(p=0.0)\n",
       "          )\n",
       "        )\n",
       "      )\n",
       "      (2): DecoderLayer(\n",
       "        (self_attn): MultiHeadedAttention(\n",
       "          (linears): ModuleList(\n",
       "            (0): Linear(in_features=1024, out_features=1024, bias=True)\n",
       "            (1): Linear(in_features=1024, out_features=1024, bias=True)\n",
       "            (2): Linear(in_features=1024, out_features=1024, bias=True)\n",
       "            (3): Linear(in_features=1024, out_features=1024, bias=True)\n",
       "          )\n",
       "          (dropout): Dropout(p=0.1)\n",
       "        )\n",
       "        (src_attn): MultiHeadedAttention(\n",
       "          (linears): ModuleList(\n",
       "            (0): Linear(in_features=1024, out_features=1024, bias=True)\n",
       "            (1): Linear(in_features=1024, out_features=1024, bias=True)\n",
       "            (2): Linear(in_features=1024, out_features=1024, bias=True)\n",
       "            (3): Linear(in_features=1024, out_features=1024, bias=True)\n",
       "          )\n",
       "          (dropout): Dropout(p=0.1)\n",
       "        )\n",
       "        (feed_forward): PositionwiseFeedForward(\n",
       "          (w_1): Linear(in_features=1024, out_features=4096, bias=True)\n",
       "          (w_2): Linear(in_features=4096, out_features=1024, bias=True)\n",
       "          (dropout): Dropout(p=0.0)\n",
       "        )\n",
       "        (sublayer): ModuleList(\n",
       "          (0): SublayerConnection(\n",
       "            (norm): LayerNorm()\n",
       "            (dropout): Dropout(p=0.0)\n",
       "          )\n",
       "          (1): SublayerConnection(\n",
       "            (norm): LayerNorm()\n",
       "            (dropout): Dropout(p=0.0)\n",
       "          )\n",
       "          (2): SublayerConnection(\n",
       "            (norm): LayerNorm()\n",
       "            (dropout): Dropout(p=0.0)\n",
       "          )\n",
       "        )\n",
       "      )\n",
       "      (3): DecoderLayer(\n",
       "        (self_attn): MultiHeadedAttention(\n",
       "          (linears): ModuleList(\n",
       "            (0): Linear(in_features=1024, out_features=1024, bias=True)\n",
       "            (1): Linear(in_features=1024, out_features=1024, bias=True)\n",
       "            (2): Linear(in_features=1024, out_features=1024, bias=True)\n",
       "            (3): Linear(in_features=1024, out_features=1024, bias=True)\n",
       "          )\n",
       "          (dropout): Dropout(p=0.1)\n",
       "        )\n",
       "        (src_attn): MultiHeadedAttention(\n",
       "          (linears): ModuleList(\n",
       "            (0): Linear(in_features=1024, out_features=1024, bias=True)\n",
       "            (1): Linear(in_features=1024, out_features=1024, bias=True)\n",
       "            (2): Linear(in_features=1024, out_features=1024, bias=True)\n",
       "            (3): Linear(in_features=1024, out_features=1024, bias=True)\n",
       "          )\n",
       "          (dropout): Dropout(p=0.1)\n",
       "        )\n",
       "        (feed_forward): PositionwiseFeedForward(\n",
       "          (w_1): Linear(in_features=1024, out_features=4096, bias=True)\n",
       "          (w_2): Linear(in_features=4096, out_features=1024, bias=True)\n",
       "          (dropout): Dropout(p=0.0)\n",
       "        )\n",
       "        (sublayer): ModuleList(\n",
       "          (0): SublayerConnection(\n",
       "            (norm): LayerNorm()\n",
       "            (dropout): Dropout(p=0.0)\n",
       "          )\n",
       "          (1): SublayerConnection(\n",
       "            (norm): LayerNorm()\n",
       "            (dropout): Dropout(p=0.0)\n",
       "          )\n",
       "          (2): SublayerConnection(\n",
       "            (norm): LayerNorm()\n",
       "            (dropout): Dropout(p=0.0)\n",
       "          )\n",
       "        )\n",
       "      )\n",
       "      (4): DecoderLayer(\n",
       "        (self_attn): MultiHeadedAttention(\n",
       "          (linears): ModuleList(\n",
       "            (0): Linear(in_features=1024, out_features=1024, bias=True)\n",
       "            (1): Linear(in_features=1024, out_features=1024, bias=True)\n",
       "            (2): Linear(in_features=1024, out_features=1024, bias=True)\n",
       "            (3): Linear(in_features=1024, out_features=1024, bias=True)\n",
       "          )\n",
       "          (dropout): Dropout(p=0.1)\n",
       "        )\n",
       "        (src_attn): MultiHeadedAttention(\n",
       "          (linears): ModuleList(\n",
       "            (0): Linear(in_features=1024, out_features=1024, bias=True)\n",
       "            (1): Linear(in_features=1024, out_features=1024, bias=True)\n",
       "            (2): Linear(in_features=1024, out_features=1024, bias=True)\n",
       "            (3): Linear(in_features=1024, out_features=1024, bias=True)\n",
       "          )\n",
       "          (dropout): Dropout(p=0.1)\n",
       "        )\n",
       "        (feed_forward): PositionwiseFeedForward(\n",
       "          (w_1): Linear(in_features=1024, out_features=4096, bias=True)\n",
       "          (w_2): Linear(in_features=4096, out_features=1024, bias=True)\n",
       "          (dropout): Dropout(p=0.0)\n",
       "        )\n",
       "        (sublayer): ModuleList(\n",
       "          (0): SublayerConnection(\n",
       "            (norm): LayerNorm()\n",
       "            (dropout): Dropout(p=0.0)\n",
       "          )\n",
       "          (1): SublayerConnection(\n",
       "            (norm): LayerNorm()\n",
       "            (dropout): Dropout(p=0.0)\n",
       "          )\n",
       "          (2): SublayerConnection(\n",
       "            (norm): LayerNorm()\n",
       "            (dropout): Dropout(p=0.0)\n",
       "          )\n",
       "        )\n",
       "      )\n",
       "      (5): DecoderLayer(\n",
       "        (self_attn): MultiHeadedAttention(\n",
       "          (linears): ModuleList(\n",
       "            (0): Linear(in_features=1024, out_features=1024, bias=True)\n",
       "            (1): Linear(in_features=1024, out_features=1024, bias=True)\n",
       "            (2): Linear(in_features=1024, out_features=1024, bias=True)\n",
       "            (3): Linear(in_features=1024, out_features=1024, bias=True)\n",
       "          )\n",
       "          (dropout): Dropout(p=0.1)\n",
       "        )\n",
       "        (src_attn): MultiHeadedAttention(\n",
       "          (linears): ModuleList(\n",
       "            (0): Linear(in_features=1024, out_features=1024, bias=True)\n",
       "            (1): Linear(in_features=1024, out_features=1024, bias=True)\n",
       "            (2): Linear(in_features=1024, out_features=1024, bias=True)\n",
       "            (3): Linear(in_features=1024, out_features=1024, bias=True)\n",
       "          )\n",
       "          (dropout): Dropout(p=0.1)\n",
       "        )\n",
       "        (feed_forward): PositionwiseFeedForward(\n",
       "          (w_1): Linear(in_features=1024, out_features=4096, bias=True)\n",
       "          (w_2): Linear(in_features=4096, out_features=1024, bias=True)\n",
       "          (dropout): Dropout(p=0.0)\n",
       "        )\n",
       "        (sublayer): ModuleList(\n",
       "          (0): SublayerConnection(\n",
       "            (norm): LayerNorm()\n",
       "            (dropout): Dropout(p=0.0)\n",
       "          )\n",
       "          (1): SublayerConnection(\n",
       "            (norm): LayerNorm()\n",
       "            (dropout): Dropout(p=0.0)\n",
       "          )\n",
       "          (2): SublayerConnection(\n",
       "            (norm): LayerNorm()\n",
       "            (dropout): Dropout(p=0.0)\n",
       "          )\n",
       "        )\n",
       "      )\n",
       "    )\n",
       "    (norm): LayerNorm()\n",
       "  )\n",
       "  (src_embed): Sequential(\n",
       "    (0): Embeddings(\n",
       "      (lut): Embedding(50000, 1024)\n",
       "    )\n",
       "    (1): PositionalEncoding(\n",
       "      (dropout): Dropout(p=0.0)\n",
       "    )\n",
       "  )\n",
       "  (tgt_embed): Sequential(\n",
       "    (0): Embeddings(\n",
       "      (lut): Embedding(32000, 1024)\n",
       "    )\n",
       "    (1): PositionalEncoding(\n",
       "      (dropout): Dropout(p=0.0)\n",
       "    )\n",
       "  )\n",
       "  (generator): Generator(\n",
       "    (proj): Linear(in_features=1024, out_features=32000, bias=True)\n",
       "  )\n",
       ")"
      ]
     },
     "execution_count": 21,
     "metadata": {},
     "output_type": "execute_result"
    }
   ],
   "source": [
    "model.eval()"
   ]
  },
  {
   "cell_type": "code",
   "execution_count": 25,
   "metadata": {
    "scrolled": false
   },
   "outputs": [
    {
     "name": "stdout",
     "output_type": "stream",
     "text": [
      "Input::\t여성뿐만이 아니에요.\n",
      "\n",
      "Translation:\tWomen are not the same as women.\n",
      "\n",
      "Target:\t▁It ▁is ▁not ▁only ▁for ▁women . \n",
      "---------------\n",
      "Input::\t저희도 와이파이 비밀번호를 몰라요.\n",
      "\n",
      "Translation:\tI don't know the wifi password.\n",
      "\n",
      "Target:\t▁We ▁also ▁don ' t ▁know ▁the ▁wifi ▁password . \n",
      "---------------\n",
      "Input::\t나는 스마트폰이 유용하다고 생각해요.\n",
      "\n",
      "Translation:\tI think smartphones are useful.\n",
      "\n",
      "Target:\t▁I ▁think ▁smartphones ▁are ▁useful . \n",
      "---------------\n",
      "Input::\t당신은 로맨틱한 남자를 좋아하나요?\n",
      "\n",
      "Translation:\tDo you like romantic guy?\n",
      "\n",
      "Target:\t▁Do ▁you ▁like ▁a ▁romantic ▁guy ? \n",
      "---------------\n",
      "Input::\t결핵약을 어떻게 먹어야하죠?\n",
      "\n",
      "Translation:\tHow can I get to the United States?\n",
      "\n",
      "Target:\t▁How ▁can ▁I ▁take ▁this ▁tuberculosis ▁medicine ? \n",
      "---------------\n",
      "Input::\t열심히 노력해서 꼭 승무원이 되세요.\n",
      "\n",
      "Translation:\tI hope you will be a flight attendant.\n",
      "\n",
      "Target:\t▁Try ▁hard ▁to ▁be ▁a ▁flight ▁attendant . \n",
      "---------------\n",
      "Input::\t하고 싶은 다른 직업이 있나요?\n",
      "\n",
      "Translation:\tDo you want to work with other jobs?\n",
      "\n",
      "Target:\t▁Are ▁there ▁any ▁other ▁jobs ▁that ▁you ▁want ? \n",
      "---------------\n",
      "Input::\t물건이 안전하게 도착하도록 해주세요.\n",
      "\n",
      "Translation:\tPlease deliver the product safely.\n",
      "\n",
      "Target:\t▁Make ▁sure ▁the ▁product ▁to ▁be ▁delivered ▁safely . \n",
      "---------------\n",
      "Input::\t나에게 리서치 결과를 알려 주세요.\n",
      "\n",
      "Translation:\tPlease let me know the result of the result.\n",
      "\n",
      "Target:\t▁Could ▁you ▁tell ▁me ▁the ▁result ▁of ▁the ▁research ? \n",
      "---------------\n",
      "Input::\t일을 잡기 전까지는 공부할 것입니다.\n",
      "\n",
      "Translation:\tI will study until I study until I get up.\n",
      "\n",
      "Target:\t▁I ▁will ▁keep ▁studying ▁until ▁I ▁get ▁a ▁job . \n",
      "---------------\n",
      "Input::\t안타깝지만 다른 증빙서류는 없습니다.\n",
      "\n",
      "Translation:\tUnfortunately, other documents are not included.\n",
      "\n",
      "Target:\t▁Unfortunately , ▁I ▁don ’ t ▁have ▁any ▁other ▁proof ▁document . \n",
      "---------------\n",
      "Input::\t저는 판타지 영화를 아주 좋아합니다.\n",
      "\n",
      "Translation:\tI like watching movies, but I like it.\n",
      "\n",
      "Target:\t▁I ▁love ▁fantasy ▁movies . \n",
      "---------------\n",
      "Input::\t그 태풍은 일본으로 다가오고 있어요.\n",
      "\n",
      "Translation:\tThe typhoon is approaching the typhoon.\n",
      "\n",
      "Target:\t▁The ▁typhoon ▁is ▁approaching ▁Japan . \n",
      "---------------\n",
      "Input::\t이 자료를 참고하여 확인하도록 하세요.\n",
      "\n",
      "Translation:\tPlease check this data.\n",
      "\n",
      "Target:\t▁Confirm ▁it ▁referring ▁to ▁this ▁data . \n",
      "---------------\n",
      "Input::\t우리는 적당히 돈을 저축해야 해요.\n",
      "\n",
      "Translation:\tWe have to save money.\n",
      "\n",
      "Target:\t▁We ▁have ▁to ▁save ▁money ▁properly . \n",
      "---------------\n",
      "Input::\t1월 말까지 기다려 주시기 바랍니다.\n",
      "\n",
      "Translation:\tPlease wait for a minute.\n",
      "\n",
      "Target:\t▁Please ▁wait ▁until ▁the ▁end ▁of ▁January . \n",
      "---------------\n",
      "Input::\t가장 부지런한 사람은 할아버지예요.\n",
      "\n",
      "Translation:\tThe most important thing is the most diligent person.\n",
      "\n",
      "Target:\t▁My ▁grandfather ▁is ▁the ▁most ▁diligent ▁person . \n",
      "---------------\n",
      "Input::\t어떻게 그것에 관심을 가지게 됐어요?\n",
      "\n",
      "Translation:\tHow did you get interested in your interest?\n",
      "\n",
      "Target:\t▁What ▁made ▁you ▁get ▁interested ▁in ▁it ? \n",
      "---------------\n",
      "Input::\t먼저 제 소개를 간단히 드리겠습니다.\n",
      "\n",
      "Translation:\tFirst, I will introduce myself briefly.\n",
      "\n",
      "Target:\t▁First , ▁let ▁me ▁introduce ▁myself ▁briefly . \n",
      "---------------\n",
      "Input::\t그날을 위해서 열심히 공부하세요.\n",
      "\n",
      "Translation:\tStudy hard and study hard today.\n",
      "\n",
      "Target:\t▁Do ▁your ▁best ▁for ▁your ▁d - day . \n",
      "---------------\n"
     ]
    }
   ],
   "source": [
    "for i, batch in enumerate(valid_iter):\n",
    "    if i == 20:\n",
    "        break\n",
    "    src = batch.src.transpose(0, 1)[:1]\n",
    "    src_mask = (src != SRC.vocab.stoi[\"<pad>\"]).unsqueeze(-2)\n",
    "\n",
    "    \n",
    "    out = greedy_decode(model, src, src_mask,\n",
    "                        max_len=60, start_symbol=TRG.vocab.stoi[\"<s>\"])\n",
    "    \n",
    "    \n",
    "    print(\"Input::\", end=\"\\t\")\n",
    "    src_list = []\n",
    "    for i in range(src.size(1)):\n",
    "        sym = SRC.vocab.itos[src[0, i].data.item()]\n",
    "        src_list.append(src[0, i].data.item())\n",
    "        if sym == \"</s>\": break\n",
    "        #print(sym, end =\" \")\n",
    "    print(SRC.decode(src_list))\n",
    "    print('')\n",
    "    \n",
    "    print(\"Translation:\", end=\"\\t\")\n",
    "    trg_list = []\n",
    "    for i in range(1, out.size(1)):\n",
    "        sym = TRG.vocab.itos[out[0, i].data.item()]\n",
    "        trg_list.append(out[0, i].data.item())\n",
    "        if sym == \"</s>\": break\n",
    "        #print(sym, end =\" \")\n",
    "    print(TRG.decode(trg_list))\n",
    "    print('')\n",
    "    print(\"Target:\", end=\"\\t\")\n",
    "    for i in range(1, batch.trg.size(0)):\n",
    "        sym = TRG.vocab.itos[batch.trg.data[i, 0].data.item()]\n",
    "        if sym == \"</s>\": break\n",
    "        print(sym, end =\" \")\n",
    "    print('')\n",
    "    print('---------------')"
   ]
  },
  {
   "cell_type": "code",
   "execution_count": 23,
   "metadata": {},
   "outputs": [],
   "source": [
    "n_params = get_number_of_params(model)"
   ]
  },
  {
   "cell_type": "code",
   "execution_count": 24,
   "metadata": {},
   "outputs": [
    {
     "data": {
      "text/plain": [
       "293.129472"
      ]
     },
     "execution_count": 24,
     "metadata": {},
     "output_type": "execute_result"
    }
   ],
   "source": [
    "n_params/10**6"
   ]
  },
  {
   "cell_type": "markdown",
   "metadata": {},
   "source": [
    "### draw attention plot"
   ]
  },
  {
   "cell_type": "code",
   "execution_count": 27,
   "metadata": {},
   "outputs": [],
   "source": [
    "import matplotlib.pyplot as plt\n",
    "import seaborn as sns"
   ]
  },
  {
   "cell_type": "code",
   "execution_count": 28,
   "metadata": {},
   "outputs": [],
   "source": [
    "#tgt_sent = trans.split()\n",
    "sent = inp_lang.EncodeAsIds(sent_pairs[0][0])\n",
    "tgt_sent = out_lang.EncodeAsIds(sent_pairs[0][1])[:-1]"
   ]
  },
  {
   "cell_type": "code",
   "execution_count": 29,
   "metadata": {},
   "outputs": [
    {
     "data": {
      "text/plain": [
       "(11, 13)"
      ]
     },
     "execution_count": 29,
     "metadata": {},
     "output_type": "execute_result"
    }
   ],
   "source": [
    "len(sent), len(tgt_sent)"
   ]
  },
  {
   "cell_type": "code",
   "execution_count": 30,
   "metadata": {},
   "outputs": [],
   "source": [
    "def draw(data, x, y, ax):\n",
    "    sns.heatmap(data, \n",
    "                    xticklabels=x, square=True, yticklabels=y, vmin=0.0, vmax=1.0, \n",
    "                    cbar=False, ax=ax)"
   ]
  },
  {
   "cell_type": "code",
   "execution_count": 31,
   "metadata": {},
   "outputs": [
    {
     "name": "stdout",
     "output_type": "stream",
     "text": [
      "Encoder Layer 2\n",
      "[DEBUG] (font_manager.py:1246) > findfont: Matching sans\\-serif:style=normal:variant=normal:weight=normal:stretch=normal:size=10.0.\n",
      "[DEBUG] (font_manager.py:1258) > findfont: score(<Font 'DejaVu Serif' (DejaVuSerif-Italic.ttf) italic normal 400 normal>) = 11.05\n",
      "[DEBUG] (font_manager.py:1258) > findfont: score(<Font 'STIXNonUnicode' (STIXNonUniIta.ttf) italic normal 400 normal>) = 11.05\n",
      "[DEBUG] (font_manager.py:1258) > findfont: score(<Font 'DejaVu Sans Mono' (DejaVuSansMono-Bold.ttf) normal normal bold normal>) = 10.335\n",
      "[DEBUG] (font_manager.py:1258) > findfont: score(<Font 'cmss10' (cmss10.ttf) normal normal 400 normal>) = 10.05\n",
      "[DEBUG] (font_manager.py:1258) > findfont: score(<Font 'DejaVu Sans' (DejaVuSans-Oblique.ttf) oblique normal 400 normal>) = 1.05\n",
      "[DEBUG] (font_manager.py:1258) > findfont: score(<Font 'STIXGeneral' (STIXGeneralItalic.ttf) italic normal 400 normal>) = 11.05\n",
      "[DEBUG] (font_manager.py:1258) > findfont: score(<Font 'DejaVu Sans' (DejaVuSans-BoldOblique.ttf) oblique normal bold normal>) = 1.335\n",
      "[DEBUG] (font_manager.py:1258) > findfont: score(<Font 'STIXSizeOneSym' (STIXSizOneSymReg.ttf) normal normal regular normal>) = 10.05\n",
      "[DEBUG] (font_manager.py:1258) > findfont: score(<Font 'DejaVu Sans' (DejaVuSans-Bold.ttf) normal normal bold normal>) = 0.33499999999999996\n",
      "[DEBUG] (font_manager.py:1258) > findfont: score(<Font 'STIXNonUnicode' (STIXNonUni.ttf) normal normal regular normal>) = 10.05\n",
      "[DEBUG] (font_manager.py:1258) > findfont: score(<Font 'DejaVu Serif' (DejaVuSerif-Bold.ttf) normal normal bold normal>) = 10.335\n",
      "[DEBUG] (font_manager.py:1258) > findfont: score(<Font 'STIXNonUnicode' (STIXNonUniBolIta.ttf) italic normal bold normal>) = 11.335\n",
      "[DEBUG] (font_manager.py:1258) > findfont: score(<Font 'STIXSizeFourSym' (STIXSizFourSymReg.ttf) normal normal regular normal>) = 10.05\n",
      "[DEBUG] (font_manager.py:1258) > findfont: score(<Font 'DejaVu Serif' (DejaVuSerif.ttf) normal normal 400 normal>) = 10.05\n",
      "[DEBUG] (font_manager.py:1258) > findfont: score(<Font 'STIXSizeTwoSym' (STIXSizTwoSymReg.ttf) normal normal regular normal>) = 10.05\n",
      "[DEBUG] (font_manager.py:1258) > findfont: score(<Font 'DejaVu Sans Display' (DejaVuSansDisplay.ttf) normal normal 400 normal>) = 10.05\n",
      "[DEBUG] (font_manager.py:1258) > findfont: score(<Font 'DejaVu Sans Mono' (DejaVuSansMono-BoldOblique.ttf) oblique normal bold normal>) = 11.335\n",
      "[DEBUG] (font_manager.py:1258) > findfont: score(<Font 'STIXSizeOneSym' (STIXSizOneSymBol.ttf) normal normal bold normal>) = 10.335\n",
      "[DEBUG] (font_manager.py:1258) > findfont: score(<Font 'cmr10' (cmr10.ttf) normal normal 400 normal>) = 10.05\n",
      "[DEBUG] (font_manager.py:1258) > findfont: score(<Font 'DejaVu Serif Display' (DejaVuSerifDisplay.ttf) normal normal 400 normal>) = 10.05\n",
      "[DEBUG] (font_manager.py:1258) > findfont: score(<Font 'STIXSizeThreeSym' (STIXSizThreeSymReg.ttf) normal normal regular normal>) = 10.05\n",
      "[DEBUG] (font_manager.py:1258) > findfont: score(<Font 'STIXNonUnicode' (STIXNonUniBol.ttf) normal normal bold normal>) = 10.335\n",
      "[DEBUG] (font_manager.py:1258) > findfont: score(<Font 'cmmi10' (cmmi10.ttf) normal normal 400 normal>) = 10.05\n",
      "[DEBUG] (font_manager.py:1258) > findfont: score(<Font 'STIXSizeTwoSym' (STIXSizTwoSymBol.ttf) normal normal bold normal>) = 10.335\n",
      "[DEBUG] (font_manager.py:1258) > findfont: score(<Font 'STIXGeneral' (STIXGeneralBol.ttf) normal normal bold normal>) = 10.335\n",
      "[DEBUG] (font_manager.py:1258) > findfont: score(<Font 'STIXGeneral' (STIXGeneral.ttf) normal normal regular normal>) = 10.05\n",
      "[DEBUG] (font_manager.py:1258) > findfont: score(<Font 'STIXSizeFiveSym' (STIXSizFiveSymReg.ttf) normal normal regular normal>) = 10.05\n",
      "[DEBUG] (font_manager.py:1258) > findfont: score(<Font 'DejaVu Serif' (DejaVuSerif-BoldItalic.ttf) italic normal bold normal>) = 11.335\n",
      "[DEBUG] (font_manager.py:1258) > findfont: score(<Font 'cmsy10' (cmsy10.ttf) normal normal 400 normal>) = 10.05\n",
      "[DEBUG] (font_manager.py:1258) > findfont: score(<Font 'STIXSizeFourSym' (STIXSizFourSymBol.ttf) normal normal bold normal>) = 10.335\n",
      "[DEBUG] (font_manager.py:1258) > findfont: score(<Font 'cmtt10' (cmtt10.ttf) normal normal 400 normal>) = 10.05\n",
      "[DEBUG] (font_manager.py:1258) > findfont: score(<Font 'DejaVu Sans Mono' (DejaVuSansMono.ttf) normal normal 400 normal>) = 10.05\n",
      "[DEBUG] (font_manager.py:1258) > findfont: score(<Font 'STIXSizeThreeSym' (STIXSizThreeSymBol.ttf) normal normal bold normal>) = 10.335\n",
      "[DEBUG] (font_manager.py:1258) > findfont: score(<Font 'cmb10' (cmb10.ttf) normal normal 400 normal>) = 10.05\n",
      "[DEBUG] (font_manager.py:1258) > findfont: score(<Font 'cmex10' (cmex10.ttf) normal normal 400 normal>) = 10.05\n",
      "[DEBUG] (font_manager.py:1258) > findfont: score(<Font 'DejaVu Sans' (DejaVuSans.ttf) normal normal 400 normal>) = 0.05\n",
      "[DEBUG] (font_manager.py:1258) > findfont: score(<Font 'DejaVu Sans Mono' (DejaVuSansMono-Oblique.ttf) oblique normal 400 normal>) = 11.05\n",
      "[DEBUG] (font_manager.py:1258) > findfont: score(<Font 'STIXGeneral' (STIXGeneralBolIta.ttf) italic normal bold normal>) = 11.335\n",
      "[DEBUG] (font_manager.py:1258) > findfont: score(<Font 'Baekmuk Dotum' (dotum.ttf) normal normal 400 normal>) = 10.05\n",
      "[DEBUG] (font_manager.py:1258) > findfont: score(<Font 'NanumBarunpen' (NanumBarunpenB.ttf) normal normal bold normal>) = 10.335\n",
      "[DEBUG] (font_manager.py:1258) > findfont: score(<Font 'NanumGothic' (NanumGothic.ttf) normal normal 400 normal>) = 10.05\n",
      "[DEBUG] (font_manager.py:1258) > findfont: score(<Font 'Baekmuk Batang' (batang.ttf) normal normal 400 normal>) = 10.05\n",
      "[DEBUG] (font_manager.py:1258) > findfont: score(<Font 'Liberation Sans' (LiberationSans-BoldItalic.ttf) italic normal bold normal>) = 11.335\n",
      "[DEBUG] (font_manager.py:1258) > findfont: score(<Font 'UnPilgia' (UnPilgia.ttf) normal normal 400 normal>) = 10.05\n",
      "[DEBUG] (font_manager.py:1258) > findfont: score(<Font 'NanumBarunGothic' (NanumBarunGothicLight.ttf) normal normal light normal>) = 10.24\n",
      "[DEBUG] (font_manager.py:1258) > findfont: score(<Font 'Liberation Sans Narrow' (LiberationSansNarrow-Regular.ttf) normal normal 400 condensed>) = 10.25\n",
      "[DEBUG] (font_manager.py:1258) > findfont: score(<Font 'D2Coding ligature' (D2Coding-Ver1.3.2-20180524-ligature.ttf) normal normal 400 normal>) = 10.05\n",
      "[DEBUG] (font_manager.py:1258) > findfont: score(<Font 'Liberation Sans Narrow' (LiberationSansNarrow-Bold.ttf) normal normal bold condensed>) = 10.535\n",
      "[DEBUG] (font_manager.py:1258) > findfont: score(<Font 'UnBatang' (UnBatangBold.ttf) normal normal bold normal>) = 10.335\n",
      "[DEBUG] (font_manager.py:1258) > findfont: score(<Font 'UnJamoNovel' (UnJamoNovel.ttf) normal normal 400 normal>) = 10.05\n",
      "[DEBUG] (font_manager.py:1258) > findfont: score(<Font 'D2Coding' (D2CodingBold-Ver1.3.2-20180524.ttf) normal normal bold normal>) = 10.335\n",
      "[DEBUG] (font_manager.py:1258) > findfont: score(<Font 'Liberation Serif' (LiberationSerif-Bold.ttf) normal normal bold normal>) = 10.335\n",
      "[DEBUG] (font_manager.py:1258) > findfont: score(<Font 'UnDotum' (UnDotum.ttf) normal normal 400 normal>) = 10.05\n",
      "[DEBUG] (font_manager.py:1258) > findfont: score(<Font 'Liberation Sans' (LiberationSans-Bold.ttf) normal normal bold normal>) = 10.335\n",
      "[DEBUG] (font_manager.py:1258) > findfont: score(<Font 'Ubuntu Mono' (UbuntuMono-BI.ttf) italic normal bold normal>) = 11.335\n",
      "[DEBUG] (font_manager.py:1258) > findfont: score(<Font 'Noto Mono' (NotoMono-Regular.ttf) normal normal 400 normal>) = 10.05\n",
      "[DEBUG] (font_manager.py:1258) > findfont: score(<Font 'UnYetgul' (UnYetgul.ttf) normal normal 700 normal>) = 10.335\n",
      "[DEBUG] (font_manager.py:1258) > findfont: score(<Font 'NanumSquare' (NanumSquareB.ttf) normal normal bold normal>) = 10.335\n",
      "[DEBUG] (font_manager.py:1258) > findfont: score(<Font 'UnDinaru' (UnDinaruLight.ttf) normal normal light normal>) = 10.24\n",
      "[DEBUG] (font_manager.py:1258) > findfont: score(<Font 'DejaVu Sans' (DejaVuSansCondensed-BoldOblique.ttf) oblique normal bold condensed>) = 1.535\n",
      "[DEBUG] (font_manager.py:1258) > findfont: score(<Font 'NanumBarunGothic' (NanumBarunGothicUltraLight.ttf) normal normal ultralight normal>) = 10.335\n",
      "[DEBUG] (font_manager.py:1258) > findfont: score(<Font 'NanumGothicCoding' (NanumGothicCoding-Bold.ttf) normal normal bold normal>) = 10.335\n"
     ]
    },
    {
     "name": "stdout",
     "output_type": "stream",
     "text": [
      "[DEBUG] (font_manager.py:1258) > findfont: score(<Font 'NanumBarunGothic' (NanumBarunGothic.ttf) normal normal 400 normal>) = 10.05\n",
      "[DEBUG] (font_manager.py:1258) > findfont: score(<Font 'Ubuntu Mono' (UbuntuMono-B.ttf) normal normal bold normal>) = 10.335\n",
      "[DEBUG] (font_manager.py:1258) > findfont: score(<Font 'NanumGothic Eco' (NanumGothicEcoExtraBold.ttf) normal normal bold normal>) = 10.335\n",
      "[DEBUG] (font_manager.py:1258) > findfont: score(<Font 'Ubuntu' (Ubuntu-B.ttf) normal normal bold normal>) = 10.335\n",
      "[DEBUG] (font_manager.py:1258) > findfont: score(<Font 'UnGraphic' (UnGraphicBold.ttf) normal normal bold normal>) = 10.335\n",
      "[DEBUG] (font_manager.py:1258) > findfont: score(<Font 'Baekmuk Gulim' (gulim.ttf) normal normal 400 normal>) = 10.05\n",
      "[DEBUG] (font_manager.py:1258) > findfont: score(<Font 'Liberation Mono' (LiberationMono-Bold.ttf) normal normal bold normal>) = 10.335\n",
      "[DEBUG] (font_manager.py:1258) > findfont: score(<Font 'Ubuntu Mono' (UbuntuMono-R.ttf) normal normal 400 normal>) = 10.05\n",
      "[DEBUG] (font_manager.py:1258) > findfont: score(<Font 'NanumGothic' (NanumGothicLight.ttf) normal normal light normal>) = 10.24\n",
      "[DEBUG] (font_manager.py:1258) > findfont: score(<Font 'NanumGothicCoding' (NanumGothicCoding.ttf) normal normal 400 normal>) = 10.05\n",
      "[DEBUG] (font_manager.py:1258) > findfont: score(<Font 'UnDinaru' (UnDinaru.ttf) normal normal 400 normal>) = 10.05\n",
      "[DEBUG] (font_manager.py:1258) > findfont: score(<Font 'NanumSquareRound' (NanumSquareRoundB.ttf) normal normal bold normal>) = 10.335\n",
      "[DEBUG] (font_manager.py:1258) > findfont: score(<Font 'Ubuntu' (Ubuntu-L.ttf) normal normal light normal>) = 10.24\n",
      "[DEBUG] (font_manager.py:1258) > findfont: score(<Font 'Ubuntu Mono' (UbuntuMono-RI.ttf) italic normal 400 normal>) = 11.05\n",
      "[DEBUG] (font_manager.py:1258) > findfont: score(<Font 'UnBatang' (UnBatang.ttf) normal normal 400 normal>) = 10.05\n",
      "[DEBUG] (font_manager.py:1258) > findfont: score(<Font 'Ubuntu' (Ubuntu-RI.ttf) italic normal 400 normal>) = 11.05\n",
      "[DEBUG] (font_manager.py:1258) > findfont: score(<Font 'Liberation Sans Narrow' (LiberationSansNarrow-Italic.ttf) italic normal 400 condensed>) = 11.25\n",
      "[DEBUG] (font_manager.py:1258) > findfont: score(<Font 'D2Coding ligature' (D2CodingBold-Ver1.3.2-20180524-ligature.ttf) normal normal bold normal>) = 10.335\n",
      "[DEBUG] (font_manager.py:1258) > findfont: score(<Font 'UnPen' (UnPen.ttf) normal normal 400 normal>) = 10.05\n",
      "[DEBUG] (font_manager.py:1258) > findfont: score(<Font 'Liberation Mono' (LiberationMono-BoldItalic.ttf) italic normal bold normal>) = 11.335\n",
      "[DEBUG] (font_manager.py:1258) > findfont: score(<Font 'Liberation Serif' (LiberationSerif-BoldItalic.ttf) italic normal bold normal>) = 11.335\n",
      "[DEBUG] (font_manager.py:1258) > findfont: score(<Font 'UnDinaru' (UnDinaruBold.ttf) normal normal bold normal>) = 10.335\n",
      "[DEBUG] (font_manager.py:1258) > findfont: score(<Font 'DejaVu Serif' (DejaVuSerifCondensed-BoldItalic.ttf) italic normal bold condensed>) = 11.535\n",
      "[DEBUG] (font_manager.py:1258) > findfont: score(<Font 'NanumGothic' (NanumGothicBold.ttf) normal normal bold normal>) = 10.335\n",
      "[DEBUG] (font_manager.py:1258) > findfont: score(<Font 'Liberation Serif' (LiberationSerif-Italic.ttf) italic normal 400 normal>) = 11.05\n",
      "[DEBUG] (font_manager.py:1258) > findfont: score(<Font 'Liberation Mono' (LiberationMono-Regular.ttf) normal normal 400 normal>) = 10.05\n",
      "[DEBUG] (font_manager.py:1258) > findfont: score(<Font 'DejaVu Serif' (DejaVuSerifCondensed-Italic.ttf) italic normal 400 condensed>) = 11.25\n",
      "[DEBUG] (font_manager.py:1258) > findfont: score(<Font 'DejaVu Sans' (DejaVuSansCondensed-Bold.ttf) normal normal bold condensed>) = 0.5349999999999999\n",
      "[DEBUG] (font_manager.py:1258) > findfont: score(<Font 'Liberation Mono' (LiberationMono-Italic.ttf) italic normal 400 normal>) = 11.05\n",
      "[DEBUG] (font_manager.py:1258) > findfont: score(<Font 'DejaVu Serif' (DejaVuSerifCondensed.ttf) normal normal 400 condensed>) = 10.25\n",
      "[DEBUG] (font_manager.py:1258) > findfont: score(<Font 'NanumMyeongjo' (NanumMyeongjo.ttf) normal normal 400 normal>) = 10.05\n",
      "[DEBUG] (font_manager.py:1258) > findfont: score(<Font 'NanumSquareRound' (NanumSquareRoundR.ttf) normal normal regular normal>) = 10.05\n",
      "[DEBUG] (font_manager.py:1258) > findfont: score(<Font 'DejaVu Sans' (DejaVuSansCondensed-Oblique.ttf) oblique normal 400 condensed>) = 1.25\n",
      "[DEBUG] (font_manager.py:1258) > findfont: score(<Font 'DejaVu Sans' (DejaVuSans-ExtraLight.ttf) normal normal light normal>) = 0.24\n",
      "[DEBUG] (font_manager.py:1258) > findfont: score(<Font 'Liberation Sans Narrow' (LiberationSansNarrow-BoldItalic.ttf) italic normal bold condensed>) = 11.535\n",
      "[DEBUG] (font_manager.py:1258) > findfont: score(<Font 'UnGraphic' (UnGraphic.ttf) normal normal 400 normal>) = 10.05\n",
      "[DEBUG] (font_manager.py:1258) > findfont: score(<Font 'UnTaza' (UnTaza.ttf) normal normal 400 normal>) = 10.05\n",
      "[DEBUG] (font_manager.py:1258) > findfont: score(<Font 'NanumGothic' (NanumGothicExtraBold.ttf) normal normal bold normal>) = 10.335\n",
      "[DEBUG] (font_manager.py:1258) > findfont: score(<Font 'UnJamoDotum' (UnJamoDotum.ttf) normal normal 400 normal>) = 10.05\n",
      "[DEBUG] (font_manager.py:1258) > findfont: score(<Font 'NanumMyeongjo' (NanumMyeongjoExtraBold.ttf) normal normal bold normal>) = 10.335\n",
      "[DEBUG] (font_manager.py:1258) > findfont: score(<Font 'UnShinmun' (UnShinmun.ttf) normal normal 400 normal>) = 10.05\n",
      "[DEBUG] (font_manager.py:1258) > findfont: score(<Font 'Nanum Pen Script' (NanumPen.ttf) normal normal 400 normal>) = 10.05\n",
      "[DEBUG] (font_manager.py:1258) > findfont: score(<Font 'NanumBarunGothic' (NanumBarunGothicBold.ttf) normal normal bold normal>) = 10.335\n",
      "[DEBUG] (font_manager.py:1258) > findfont: score(<Font 'DejaVu Sans' (DejaVuSansCondensed.ttf) normal normal 400 condensed>) = 0.25\n",
      "[DEBUG] (font_manager.py:1258) > findfont: score(<Font 'D2Coding' (D2Coding-Ver1.3.2-20180524.ttf) normal normal 400 normal>) = 10.05\n",
      "[DEBUG] (font_manager.py:1258) > findfont: score(<Font 'UnPilgi' (UnPilgiBold.ttf) normal normal bold normal>) = 10.335\n",
      "[DEBUG] (font_manager.py:1258) > findfont: score(<Font 'D2Coding ligature' (D2Coding-Ver1.3.2-20180524-ligature.ttc) normal normal 400 normal>) = 10.05\n",
      "[DEBUG] (font_manager.py:1258) > findfont: score(<Font 'UnJamoSora' (UnJamoSora.ttf) normal normal 400 normal>) = 10.05\n",
      "[DEBUG] (font_manager.py:1258) > findfont: score(<Font 'DejaVu Math TeX Gyre' (DejaVuMathTeXGyre.ttf) normal normal regular normal>) = 10.05\n",
      "[DEBUG] (font_manager.py:1258) > findfont: score(<Font 'Liberation Serif' (LiberationSerif-Regular.ttf) normal normal 400 normal>) = 10.05\n",
      "[DEBUG] (font_manager.py:1258) > findfont: score(<Font 'NanumMyeongjo Eco' (NanumMyeongjoEcoExtraBold.ttf) normal normal bold normal>) = 10.335\n",
      "[DEBUG] (font_manager.py:1258) > findfont: score(<Font 'NanumBarunpen' (NanumBarunpenR.ttf) normal normal 400 normal>) = 10.05\n",
      "[DEBUG] (font_manager.py:1258) > findfont: score(<Font 'UnGungseo' (UnGungseo.ttf) normal normal 400 normal>) = 10.05\n",
      "[DEBUG] (font_manager.py:1258) > findfont: score(<Font 'NanumGothic Eco' (NanumGothicEco.ttf) normal normal 400 normal>) = 10.05\n",
      "[DEBUG] (font_manager.py:1258) > findfont: score(<Font 'Liberation Sans' (LiberationSans-Regular.ttf) normal normal 400 normal>) = 10.05\n",
      "[DEBUG] (font_manager.py:1258) > findfont: score(<Font 'DejaVu Serif' (DejaVuSerifCondensed-Bold.ttf) normal normal bold condensed>) = 10.535\n",
      "[DEBUG] (font_manager.py:1258) > findfont: score(<Font 'UnPilgi' (UnPilgi.ttf) normal normal 400 normal>) = 10.05\n",
      "[DEBUG] (font_manager.py:1258) > findfont: score(<Font 'Nanum Brush Script' (NanumBrush.ttf) normal normal 400 normal>) = 10.05\n",
      "[DEBUG] (font_manager.py:1258) > findfont: score(<Font 'NanumGothic Eco' (NanumGothicEcoBold.ttf) normal normal bold normal>) = 10.335\n",
      "[DEBUG] (font_manager.py:1258) > findfont: score(<Font 'Droid Sans Fallback' (DroidSansFallbackFull.ttf) normal normal 400 normal>) = 10.05\n",
      "[DEBUG] (font_manager.py:1258) > findfont: score(<Font 'NanumSquare' (NanumSquareL.ttf) normal normal light normal>) = 10.24\n",
      "[DEBUG] (font_manager.py:1258) > findfont: score(<Font 'NanumMyeongjo' (NanumMyeongjoBold.ttf) normal normal bold normal>) = 10.335\n",
      "[DEBUG] (font_manager.py:1258) > findfont: score(<Font 'UnDotum' (UnDotumBold.ttf) normal normal bold normal>) = 10.335\n"
     ]
    },
    {
     "name": "stdout",
     "output_type": "stream",
     "text": [
      "[DEBUG] (font_manager.py:1258) > findfont: score(<Font 'UnJamoBatang' (UnJamoBatang.ttf) normal normal 400 normal>) = 10.05\n",
      "[DEBUG] (font_manager.py:1258) > findfont: score(<Font 'NanumMyeongjo Eco' (NanumMyeongjoEco.ttf) normal normal 400 normal>) = 10.05\n",
      "[DEBUG] (font_manager.py:1258) > findfont: score(<Font 'Ubuntu' (Ubuntu-R.ttf) normal normal 400 normal>) = 10.05\n",
      "[DEBUG] (font_manager.py:1258) > findfont: score(<Font 'D2Coding' (D2Coding-Ver1.3.2-20180524.ttc) normal normal 400 normal>) = 10.05\n",
      "[DEBUG] (font_manager.py:1258) > findfont: score(<Font 'NanumSquare' (NanumSquareR.ttf) normal normal regular normal>) = 10.05\n",
      "[DEBUG] (font_manager.py:1258) > findfont: score(<Font 'Ubuntu Condensed' (Ubuntu-C.ttf) normal normal 400 condensed>) = 10.25\n",
      "[DEBUG] (font_manager.py:1258) > findfont: score(<Font 'D2Coding' (D2Coding-Ver1.3.2-20180524-all.ttc) normal normal 400 normal>) = 10.05\n",
      "[DEBUG] (font_manager.py:1258) > findfont: score(<Font 'NanumSquareRound' (NanumSquareRoundEB.ttf) normal normal bold normal>) = 10.335\n",
      "[DEBUG] (font_manager.py:1258) > findfont: score(<Font 'Baekmuk Headline' (hline.ttf) normal normal 400 normal>) = 10.05\n",
      "[DEBUG] (font_manager.py:1258) > findfont: score(<Font 'NanumSquareRound' (NanumSquareRoundL.ttf) normal normal light normal>) = 10.24\n",
      "[DEBUG] (font_manager.py:1258) > findfont: score(<Font 'Ubuntu' (Ubuntu-LI.ttf) italic normal light normal>) = 11.24\n",
      "[DEBUG] (font_manager.py:1258) > findfont: score(<Font 'UnVada' (UnVada.ttf) normal normal 400 normal>) = 10.05\n",
      "[DEBUG] (font_manager.py:1258) > findfont: score(<Font 'Liberation Sans' (LiberationSans-Italic.ttf) italic normal 400 normal>) = 11.05\n",
      "[DEBUG] (font_manager.py:1258) > findfont: score(<Font 'NanumMyeongjo Eco' (NanumMyeongjoEcoBold.ttf) normal normal bold normal>) = 10.335\n",
      "[DEBUG] (font_manager.py:1258) > findfont: score(<Font 'Ubuntu' (Ubuntu-MI.ttf) italic normal medium normal>) = 11.145\n",
      "[DEBUG] (font_manager.py:1258) > findfont: score(<Font 'UnPenheulim' (UnPenheulim.ttf) normal normal 400 normal>) = 10.05\n",
      "[DEBUG] (font_manager.py:1258) > findfont: score(<Font 'NanumSquare' (NanumSquareEB.ttf) normal normal bold normal>) = 10.335\n",
      "[DEBUG] (font_manager.py:1258) > findfont: score(<Font 'Ubuntu' (Ubuntu-BI.ttf) italic normal bold normal>) = 11.335\n",
      "[DEBUG] (font_manager.py:1258) > findfont: score(<Font 'Ubuntu' (Ubuntu-M.ttf) normal normal medium normal>) = 10.145\n",
      "[DEBUG] (font_manager.py:1281) > findfont: Matching sans\\-serif:style=normal:variant=normal:weight=normal:stretch=normal:size=10.0 to DejaVu Sans ('/heavy_data/jkfirst/workspace/git/LaH/env/lib/python3.6/site-packages/matplotlib/mpl-data/fonts/ttf/DejaVuSans.ttf') with score of 0.050000.\n"
     ]
    },
    {
     "data": {
      "image/png": "[encoded data removed]",
      "text/plain": [
       "<Figure size 1440x720 with 4 Axes>"
      ]
     },
     "metadata": {
      "needs_background": "light"
     },
     "output_type": "display_data"
    },
    {
     "name": "stdout",
     "output_type": "stream",
     "text": [
      "Encoder Layer 4\n"
     ]
    },
    {
     "data": {
      "image/png": "[encoded data removed]",
      "text/plain": [
       "<Figure size 1440x720 with 4 Axes>"
      ]
     },
     "metadata": {
      "needs_background": "light"
     },
     "output_type": "display_data"
    },
    {
     "name": "stdout",
     "output_type": "stream",
     "text": [
      "Encoder Layer 6\n"
     ]
    },
    {
     "data": {
      "image/png": "[encoded data removed]",
      "text/plain": [
       "<Figure size 1440x720 with 4 Axes>"
      ]
     },
     "metadata": {
      "needs_background": "light"
     },
     "output_type": "display_data"
    }
   ],
   "source": [
    "for layer in range(1, 6, 2):\n",
    "    fig, axs = plt.subplots(1,4, figsize=(20, 10))\n",
    "    print(\"Encoder Layer\", layer+1)\n",
    "    for h in range(4):\n",
    "        draw(model.encoder.layers[layer].self_attn.attn[0, h].data, \n",
    "            sent, sent if h ==0 else [], ax=axs[h])\n",
    "    plt.show()"
   ]
  },
  {
   "cell_type": "code",
   "execution_count": 32,
   "metadata": {},
   "outputs": [
    {
     "name": "stdout",
     "output_type": "stream",
     "text": [
      "Decoder Self Layer 2\n"
     ]
    },
    {
     "data": {
      "image/png": "[encoded data removed]",
      "text/plain": [
       "<Figure size 1440x720 with 4 Axes>"
      ]
     },
     "metadata": {
      "needs_background": "light"
     },
     "output_type": "display_data"
    },
    {
     "name": "stdout",
     "output_type": "stream",
     "text": [
      "Decoder Src Layer 2\n"
     ]
    },
    {
     "data": {
      "image/png": "[encoded data removed]",
      "text/plain": [
       "<Figure size 1440x720 with 4 Axes>"
      ]
     },
     "metadata": {
      "needs_background": "light"
     },
     "output_type": "display_data"
    },
    {
     "name": "stdout",
     "output_type": "stream",
     "text": [
      "Decoder Self Layer 4\n"
     ]
    },
    {
     "data": {
      "image/png": "[encoded data removed]",
      "text/plain": [
       "<Figure size 1440x720 with 4 Axes>"
      ]
     },
     "metadata": {
      "needs_background": "light"
     },
     "output_type": "display_data"
    },
    {
     "name": "stdout",
     "output_type": "stream",
     "text": [
      "Decoder Src Layer 4\n"
     ]
    },
    {
     "data": {
      "image/png": "[encoded data removed]",
      "text/plain": [
       "<Figure size 1440x720 with 4 Axes>"
      ]
     },
     "metadata": {
      "needs_background": "light"
     },
     "output_type": "display_data"
    },
    {
     "name": "stdout",
     "output_type": "stream",
     "text": [
      "Decoder Self Layer 6\n"
     ]
    },
    {
     "data": {
      "image/png": "[encoded data removed]",
      "text/plain": [
       "<Figure size 1440x720 with 4 Axes>"
      ]
     },
     "metadata": {
      "needs_background": "light"
     },
     "output_type": "display_data"
    },
    {
     "name": "stdout",
     "output_type": "stream",
     "text": [
      "Decoder Src Layer 6\n"
     ]
    },
    {
     "data": {
      "image/png": "[encoded data removed]",
      "text/plain": [
       "<Figure size 1440x720 with 4 Axes>"
      ]
     },
     "metadata": {
      "needs_background": "light"
     },
     "output_type": "display_data"
    }
   ],
   "source": [
    "for layer in range(1, 6, 2):\n",
    "    fig, axs = plt.subplots(1,4, figsize=(20, 10))\n",
    "    print(\"Decoder Self Layer\", layer+1)\n",
    "    for h in range(4):\n",
    "        draw(model.decoder.layers[layer].self_attn.attn[0, h].data[:len(tgt_sent), :len(tgt_sent)], \n",
    "            tgt_sent, tgt_sent if h ==0 else [], ax=axs[h])\n",
    "    plt.show()\n",
    "    print(\"Decoder Src Layer\", layer+1)\n",
    "    fig, axs = plt.subplots(1,4, figsize=(20, 10))\n",
    "    for h in range(4):\n",
    "        draw(model.decoder.layers[layer].self_attn.attn[0, h].data[:len(tgt_sent), :len(sent)], \n",
    "            sent, tgt_sent if h ==0 else [], ax=axs[h])\n",
    "    plt.show()"
   ]
  },
  {
   "cell_type": "code",
   "execution_count": 33,
   "metadata": {},
   "outputs": [
    {
     "data": {
      "text/plain": [
       "torch.Size([59, 59])"
      ]
     },
     "execution_count": 33,
     "metadata": {},
     "output_type": "execute_result"
    }
   ],
   "source": [
    "model.decoder.layers[layer].self_attn.attn[0, h].shape"
   ]
  },
  {
   "cell_type": "code",
   "execution_count": 34,
   "metadata": {},
   "outputs": [
    {
     "data": {
      "text/plain": [
       "Dropout(p=0.1)"
      ]
     },
     "execution_count": 34,
     "metadata": {},
     "output_type": "execute_result"
    }
   ],
   "source": [
    "model.decoder.layers[layer].self_attn.dropout"
   ]
  },
  {
   "cell_type": "code",
   "execution_count": null,
   "metadata": {},
   "outputs": [],
   "source": []
  },
  {
   "cell_type": "code",
   "execution_count": null,
   "metadata": {},
   "outputs": [],
   "source": []
  }
 ],
 "metadata": {
  "kernelspec": {
   "display_name": "env",
   "language": "python",
   "name": "env"
  },
  "language_info": {
   "codemirror_mode": {
    "name": "ipython",
    "version": 3
   },
   "file_extension": ".py",
   "mimetype": "text/x-python",
   "name": "python",
   "nbconvert_exporter": "python",
   "pygments_lexer": "ipython3",
   "version": "3.6.8"
  }
 },
 "nbformat": 4,
 "nbformat_minor": 4
}
