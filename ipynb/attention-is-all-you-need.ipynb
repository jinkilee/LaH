{
 "cells": [
  {
   "cell_type": "markdown",
   "metadata": {},
   "source": [
    "Reference\n",
    "- https://nlp.seas.harvard.edu/2018/04/03/attention.html"
   ]
  },
  {
   "cell_type": "code",
   "execution_count": 1,
   "metadata": {},
   "outputs": [],
   "source": [
    "import sys\n",
    "sys.path.insert(0, '../')"
   ]
  },
  {
   "cell_type": "code",
   "execution_count": 2,
   "metadata": {},
   "outputs": [],
   "source": [
    "import numpy as np\n",
    "import re\n",
    "import matplotlib.pyplot as plt\n",
    "import sentencepiece as spm\n",
    "from modeling.transformer import *\n",
    "from dataset import load_dataset\n",
    "from torch.utils.data import DataLoader, TensorDataset, Dataset\n",
    "from torch.nn.utils.rnn import pad_sequence\n",
    "import glob"
   ]
  },
  {
   "cell_type": "code",
   "execution_count": 3,
   "metadata": {},
   "outputs": [],
   "source": [
    "def make_model(src_vocab, tgt_vocab, N=6, \n",
    "               d_model=512, d_ff=2048, h=8, dropout=0.1):\n",
    "    \"Helper: Construct a model from hyperparameters.\"\n",
    "    c = copy.deepcopy\n",
    "    attn = MultiHeadedAttention(h, d_model)\n",
    "    ff = PositionwiseFeedForward(d_model, d_ff, dropout)\n",
    "    position = PositionalEncoding(d_model, dropout)\n",
    "    model = EncoderDecoder(\n",
    "        Encoder(EncoderLayer(d_model, c(attn), c(ff), dropout), N),\n",
    "        Decoder(DecoderLayer(d_model, c(attn), c(attn), c(ff), dropout), N),\n",
    "        nn.Sequential(Embeddings(d_model, src_vocab), c(position)),\n",
    "        nn.Sequential(Embeddings(d_model, tgt_vocab), c(position)),\n",
    "        Generator(d_model, tgt_vocab))\n",
    "    \n",
    "    # This was important from their code. \n",
    "    # Initialize parameters with Glorot / fan_avg.\n",
    "    for p in model.parameters():\n",
    "        if p.dim() > 1:\n",
    "            nn.init.xavier_uniform(p)\n",
    "    return model"
   ]
  },
  {
   "cell_type": "code",
   "execution_count": 4,
   "metadata": {},
   "outputs": [
    {
     "name": "stdout",
     "output_type": "stream",
     "text": [
      "Exception: 187th sentence of /home/jkfirst/workspace/git/LaH/dataset/Corpus10/cekcorpus31.txt: 'cp949' codec can't decode byte 0xc9 in position 7412: illegal multibyte sequence\n",
      ">> 61106 sentence pairs loaded\n",
      ">> 62106 sentence pairs loaded\n"
     ]
    }
   ],
   "source": [
    "sent_pairs = load_dataset()"
   ]
  },
  {
   "cell_type": "code",
   "execution_count": 5,
   "metadata": {},
   "outputs": [],
   "source": [
    "def remove_bos_eos(pair):\n",
    "    src, trg = pair\n",
    "    src = re.sub('<start> ', '', src)\n",
    "    src = re.sub(' <end>', '', src)\n",
    "    trg = re.sub('<start> ', '', trg)\n",
    "    trg = re.sub(' <end>', '', trg)\n",
    "    return [src, trg]"
   ]
  },
  {
   "cell_type": "code",
   "execution_count": 6,
   "metadata": {},
   "outputs": [],
   "source": [
    "sent_pairs = list(map(lambda x: remove_bos_eos(x), sent_pairs))"
   ]
  },
  {
   "cell_type": "code",
   "execution_count": 7,
   "metadata": {},
   "outputs": [],
   "source": [
    "\n",
    "with open('./spm_src.txt', 'w', encoding='utf8') as src_f:\n",
    "    for sp in sent_pairs:\n",
    "        src_f.write(sp[0] + '\\n')\n",
    "\n",
    "with open('./spm_trg.txt', 'w', encoding='utf8') as trg_f:\n",
    "    for sp in sent_pairs:\n",
    "        trg_f.write(sp[1] + '\\n')"
   ]
  },
  {
   "cell_type": "code",
   "execution_count": 8,
   "metadata": {},
   "outputs": [],
   "source": [
    "templates= '--input={} \\\n",
    "--pad_id={} \\\n",
    "--bos_id={} \\\n",
    "--eos_id={} \\\n",
    "--unk_id={} \\\n",
    "--model_prefix={} \\\n",
    "--vocab_size={} \\\n",
    "--character_coverage={} \\\n",
    "--model_type={}'"
   ]
  },
  {
   "cell_type": "code",
   "execution_count": 9,
   "metadata": {},
   "outputs": [],
   "source": [
    "src_input_file = \"./spm_src.txt\"\n",
    "pad_id=0  #<pad> token을 0으로 설정\n",
    "vocab_size = 10000 # vocab 사이즈\n",
    "src_prefix = 'spm-src-{}'.format(vocab_size) # 저장될 tokenizer 모델에 붙는 이름\n",
    "bos_id=1 #<start> token을 1으로 설정\n",
    "eos_id=2 #<end> token을 2으로 설정\n",
    "unk_id=3 #<unknown> token을 3으로 설정\n",
    "character_coverage = 1.0 # to reduce character set \n",
    "model_type ='unigram' # Choose from unigram (default), bpe, char, or word\n",
    "\n",
    "trg_input_file = \"./spm_trg.txt\"\n",
    "pad_id=0  #<pad> token을 0으로 설정\n",
    "vocab_size = 10000 # vocab 사이즈\n",
    "trg_prefix = 'spm-trg-{}'.format(vocab_size) # 저장될 tokenizer 모델에 붙는 이름\n",
    "bos_id=1 #<start> token을 1으로 설정\n",
    "eos_id=2 #<end> token을 2으로 설정\n",
    "unk_id=3 #<unknown> token을 3으로 설정\n",
    "character_coverage = 1.0 # to reduce character set \n",
    "model_type ='unigram' # Choose from unigram (default), bpe, char, or word"
   ]
  },
  {
   "cell_type": "code",
   "execution_count": 10,
   "metadata": {},
   "outputs": [],
   "source": [
    "make_sentencepiece = True"
   ]
  },
  {
   "cell_type": "code",
   "execution_count": 11,
   "metadata": {},
   "outputs": [],
   "source": [
    "src_cmd = templates.format(src_input_file,\n",
    "                pad_id,\n",
    "                bos_id,\n",
    "                eos_id,\n",
    "                unk_id,\n",
    "                src_prefix,\n",
    "                vocab_size,\n",
    "                character_coverage,\n",
    "                model_type)"
   ]
  },
  {
   "cell_type": "code",
   "execution_count": 12,
   "metadata": {},
   "outputs": [],
   "source": [
    "trg_cmd = templates.format(trg_input_file,\n",
    "                pad_id,\n",
    "                bos_id,\n",
    "                eos_id,\n",
    "                unk_id,\n",
    "                trg_prefix,\n",
    "                vocab_size,\n",
    "                character_coverage,\n",
    "                model_type)"
   ]
  },
  {
   "cell_type": "code",
   "execution_count": 13,
   "metadata": {},
   "outputs": [],
   "source": [
    "if make_sentencepiece:\n",
    "    src_spm = spm.SentencePieceTrainer.Train(src_cmd)\n",
    "    trg_spm = spm.SentencePieceTrainer.Train(trg_cmd)\n",
    "    src_spm = spm.SentencePieceProcessor()\n",
    "    trg_spm = spm.SentencePieceProcessor()\n",
    "    src_spm.Load('{}.model'.format(src_prefix)) \n",
    "    trg_spm.Load('{}.model'.format(trg_prefix))\n",
    "else: \n",
    "    src_spm = spm.SentencePieceProcessor()\n",
    "    trg_spm = spm.SentencePieceProcessor()\n",
    "    src_spm.Load('{}.model'.format(src_prefix)) \n",
    "    trg_spm.Load('{}.model'.format(trg_prefix)) "
   ]
  },
  {
   "cell_type": "code",
   "execution_count": 14,
   "metadata": {},
   "outputs": [
    {
     "data": {
      "text/plain": [
       "True"
      ]
     },
     "execution_count": 14,
     "metadata": {},
     "output_type": "execute_result"
    }
   ],
   "source": [
    "extra_options = 'bos:eos' #'reverse:bos:eos'\n",
    "src_spm.SetEncodeExtraOptions(extra_options)\n",
    "trg_spm.SetEncodeExtraOptions(extra_options)"
   ]
  },
  {
   "cell_type": "code",
   "execution_count": 15,
   "metadata": {},
   "outputs": [
    {
     "data": {
      "text/plain": [
       "('너 자신의 방법으로 해 나가라', 'do it your own way')"
      ]
     },
     "execution_count": 15,
     "metadata": {},
     "output_type": "execute_result"
    }
   ],
   "source": [
    "kor, eng = sent_pairs[100]\n",
    "kor = re.sub('<start> ', '', kor)\n",
    "kor = re.sub(' <end>', '', kor)\n",
    "eng = re.sub('<start> ', '', eng)\n",
    "eng = re.sub(' <end>', '', eng)\n",
    "kor , eng"
   ]
  },
  {
   "cell_type": "code",
   "execution_count": 16,
   "metadata": {},
   "outputs": [
    {
     "data": {
      "text/plain": [
       "(['<s>', '▁너', '▁자신', '의', '▁방법으로', '▁해', '▁나', '가', '라', '</s>'],\n",
       " [1, 37, 148, 6, 2800, 175, 29, 11, 117, 2])"
      ]
     },
     "execution_count": 16,
     "metadata": {},
     "output_type": "execute_result"
    }
   ],
   "source": [
    "tokens = src_spm.EncodeAsPieces(kor)\n",
    "indice = src_spm.EncodeAsIds(kor)\n",
    "tokens, indice"
   ]
  },
  {
   "cell_type": "code",
   "execution_count": 17,
   "metadata": {},
   "outputs": [
    {
     "data": {
      "text/plain": [
       "(['<s>', '▁do', '▁it', '▁your', '▁own', '▁way', '</s>'],\n",
       " [1, 52, 20, 32, 278, 146, 2])"
      ]
     },
     "execution_count": 17,
     "metadata": {},
     "output_type": "execute_result"
    }
   ],
   "source": [
    "tokens = trg_spm.EncodeAsPieces(eng)\n",
    "indice = trg_spm.EncodeAsIds(eng)\n",
    "tokens, indice"
   ]
  },
  {
   "cell_type": "code",
   "execution_count": 18,
   "metadata": {},
   "outputs": [],
   "source": [
    "# class Batch:\n",
    "#     \"Object for holding a batch of data with mask during training.\"\n",
    "#     def __init__(self, src, trg=None, pad=0):\n",
    "#         self.src = src\n",
    "#         self.src_mask = (src != pad).unsqueeze(-2)\n",
    "#         if trg is not None:\n",
    "#             self.trg = trg[:, :-1]\n",
    "#             self.trg_y = trg[:, 1:]\n",
    "#             self.trg_mask = \\\n",
    "#                 self.make_std_mask(self.trg, pad)\n",
    "#             self.ntokens = (self.trg_y != pad).data.sum()\n",
    "    \n",
    "#     @staticmethod\n",
    "#     def make_std_mask(tgt, pad):\n",
    "#         \"Create a mask to hide padding and future words.\"\n",
    "#         tgt_mask = (tgt != pad).unsqueeze(-2)\n",
    "#         tgt_mask = tgt_mask & Variable(\n",
    "#             subsequent_mask(tgt.size(-1)).type_as(tgt_mask.data))\n",
    "#         return tgt_mask"
   ]
  },
  {
   "cell_type": "code",
   "execution_count": 19,
   "metadata": {},
   "outputs": [],
   "source": [
    "def data_gen(V, batch, nbatches):\n",
    "    \"Generate random data for a src-tgt copy task.\"\n",
    "#     for i in range(nbatches):\n",
    "#         data = torch.from_numpy(np.random.randint(1, V, size=(batch, 10)))\n",
    "#         data[:, 0] = 1\n",
    "#         src = Variable(data, requires_grad=False)\n",
    "#         tgt = Variable(data, requires_grad=False)\n",
    "#         yield Batch(src, tgt, 0)\n",
    "    for sp in sent_pairs:\n",
    "        src, trg = sp\n",
    "        inp_tensor = torch.LongTensor(src_spm.EncodeAsIds(src)).unsqueeze(dim=0)\n",
    "        out_tensor = torch.LongTensor(trg_spm.EncodeAsIds(trg)).unsqueeze(dim=0)\n",
    "        src_token = Variable(inp_tensor, requires_grad=False)\n",
    "        trg_token = Variable(out_tensor, requires_grad=False)\n",
    "        dataset = TensorDataset(Batch(src_token, trg_token))\n",
    "        yield dataset"
   ]
  },
  {
   "cell_type": "code",
   "execution_count": 20,
   "metadata": {},
   "outputs": [],
   "source": [
    "# data_gen(11, 2, 3)"
   ]
  },
  {
   "cell_type": "code",
   "execution_count": 21,
   "metadata": {},
   "outputs": [],
   "source": [
    "def set_padding(dataset_list):\n",
    "    # to list\n",
    "    src_token_list = [ds[0] for ds in dataset_list]\n",
    "    trg_token_list = [ds[1] for ds in dataset_list]\n",
    "    src_mask_list = [ds[2] for ds in dataset_list]\n",
    "    trg_mask_list = [ds[3] for ds in dataset_list]\n",
    "    ntokens = sum([ds[4] for ds in dataset_list])\n",
    "    \n",
    "    # padding\n",
    "    src_token_tensor = pad_sequence(src_token_list, batch_first=True)\n",
    "    trg_token_tensor = pad_sequence(trg_token_list, batch_first=True)\n",
    "    src_mask_tensor = pad_sequence(src_mask_list, batch_first=True).unsqueeze(dim=-2)\n",
    "    trg_mask_tensor = pad_sequence(trg_mask_list, batch_first=True).unsqueeze(dim=-2)\n",
    "    \n",
    "    return [src_token_tensor, trg_token_tensor, src_mask_tensor, trg_mask_tensor, ntokens]"
   ]
  },
  {
   "cell_type": "code",
   "execution_count": 22,
   "metadata": {},
   "outputs": [],
   "source": [
    "class TranslationDataset(Dataset):\n",
    "    def __init__(self, sent_pairs):\n",
    "        self.dataset = sent_pairs\n",
    "    \n",
    "    def __len__(self):\n",
    "        return len(self.dataset)\n",
    "    \n",
    "    def __getitem__(self, idx):\n",
    "        src, trg = self.dataset[idx]\n",
    "        \n",
    "        # to Tensor\n",
    "        inp_tensor = torch.LongTensor(src_spm.EncodeAsIds(src))#.unsqueeze(dim=0)\n",
    "        out_tensor = torch.LongTensor(trg_spm.EncodeAsIds(trg))#.unsqueeze(dim=0)\n",
    "        src_mask = (inp_tensor != src_spm.pad_id()).int()\n",
    "        trg_mask = (out_tensor != trg_spm.pad_id()).int()\n",
    "        ntokens = (out_tensor != trg_spm.pad_id()).data.sum()\n",
    "        \n",
    "        # to Variable\n",
    "        src_token = Variable(inp_tensor, requires_grad=False)\n",
    "        trg_token = Variable(out_tensor, requires_grad=False)\n",
    "        src_mask = Variable(src_mask, requires_grad=False)\n",
    "        trg_mask = Variable(trg_mask, requires_grad=False)\n",
    "        \n",
    "        return [src_token, trg_token, src_mask, trg_mask, ntokens]"
   ]
  },
  {
   "cell_type": "code",
   "execution_count": 23,
   "metadata": {},
   "outputs": [],
   "source": [
    "dataset = TranslationDataset(sent_pairs)"
   ]
  },
  {
   "cell_type": "code",
   "execution_count": 24,
   "metadata": {},
   "outputs": [],
   "source": [
    "dataloader = DataLoader(dataset, batch_size=5, collate_fn=set_padding)"
   ]
  },
  {
   "cell_type": "markdown",
   "metadata": {},
   "source": [
    "```python\n",
    ">>> for i, batch in enumerate(dataloader):\n",
    ">>>     if i > 3:\n",
    ">>>         break\n",
    ">>>     print(i, batch[0].shape, batch[1].shape, batch[2].shape, batch[3].shape)\n",
    "```\n",
    "\n",
    "```\n",
    "0 torch.Size([5, 10]) torch.Size([5, 9]) torch.Size([5, 10]) torch.Size([5, 9])\n",
    "1 torch.Size([5, 8]) torch.Size([5, 9]) torch.Size([5, 8]) torch.Size([5, 9])\n",
    "2 torch.Size([5, 11]) torch.Size([5, 10]) torch.Size([5, 11]) torch.Size([5, 10])\n",
    "3 torch.Size([5, 9]) torch.Size([5, 8]) torch.Size([5, 9]) torch.Size([5, 8])\n",
    "```"
   ]
  },
  {
   "cell_type": "code",
   "execution_count": 25,
   "metadata": {},
   "outputs": [
    {
     "name": "stdout",
     "output_type": "stream",
     "text": [
      "0 torch.Size([5, 10]) torch.Size([5, 9]) torch.Size([5, 1, 10]) torch.Size([5, 1, 9])\n",
      "1 torch.Size([5, 8]) torch.Size([5, 9]) torch.Size([5, 1, 8]) torch.Size([5, 1, 9])\n",
      "2 torch.Size([5, 11]) torch.Size([5, 10]) torch.Size([5, 1, 11]) torch.Size([5, 1, 10])\n",
      "3 torch.Size([5, 9]) torch.Size([5, 8]) torch.Size([5, 1, 9]) torch.Size([5, 1, 8])\n"
     ]
    }
   ],
   "source": [
    "for i, batch in enumerate(dataloader):\n",
    "    if i > 3:\n",
    "        break\n",
    "    print(i, batch[0].shape, batch[1].shape, batch[2].shape, batch[3].shape)"
   ]
  },
  {
   "cell_type": "code",
   "execution_count": 26,
   "metadata": {},
   "outputs": [],
   "source": [
    "#def run_epoch(dataloader)\n",
    "def run_epoch(dataloader, model, loss_compute):\n",
    "    \"Standard Training and Logging Function\"\n",
    "    start = time.time()\n",
    "    total_tokens = 0\n",
    "    total_loss = 0\n",
    "    tokens = 0\n",
    "    for i, batch in enumerate(dataloader):\n",
    "        batch_src, batch_trg, batch_src_mask, batch_trg_mask, batch_ntokens = batch\n",
    "        #'''\n",
    "        out = model.forward(batch_src, batch_trg, batch_src_mask, batch_trg_mask)\n",
    "        loss = loss_compute(out, batch_trg, batch_ntokens)\n",
    "        total_loss += loss\n",
    "        total_tokens += batch_ntokens\n",
    "        tokens += batch_ntokens\n",
    "        if i % 50 == 1:\n",
    "            elapsed = time.time() - start\n",
    "            print(\"Epoch Step: %d Loss: %f Tokens per Sec: %f\" %\n",
    "                    (i, loss / batch_ntokens, tokens / elapsed))\n",
    "            start = time.time()\n",
    "            tokens = 0\n",
    "        #'''\n",
    "    return total_loss / total_tokens"
   ]
  },
  {
   "cell_type": "code",
   "execution_count": 27,
   "metadata": {},
   "outputs": [],
   "source": [
    "global max_src_in_batch, max_tgt_in_batch\n",
    "def batch_size_fn(new, count, sofar):\n",
    "    \"Keep augmenting batch and calculate total number of tokens + padding.\"\n",
    "    global max_src_in_batch, max_tgt_in_batch\n",
    "    if count == 1:\n",
    "        max_src_in_batch = 0\n",
    "        max_tgt_in_batch = 0\n",
    "    max_src_in_batch = max(max_src_in_batch,  len(new.src))\n",
    "    max_tgt_in_batch = max(max_tgt_in_batch,  len(new.trg) + 2)\n",
    "    src_elements = count * max_src_in_batch\n",
    "    tgt_elements = count * max_tgt_in_batch\n",
    "    return max(src_elements, tgt_elements)"
   ]
  },
  {
   "cell_type": "code",
   "execution_count": 28,
   "metadata": {},
   "outputs": [],
   "source": [
    "class NoamOpt:\n",
    "    \"Optim wrapper that implements rate.\"\n",
    "    def __init__(self, model_size, factor, warmup, optimizer):\n",
    "        self.optimizer = optimizer\n",
    "        self._step = 0\n",
    "        self.warmup = warmup\n",
    "        self.factor = factor\n",
    "        self.model_size = model_size\n",
    "        self._rate = 0\n",
    "        \n",
    "    def step(self):\n",
    "        \"Update parameters and rate\"\n",
    "        self._step += 1\n",
    "        rate = self.rate()\n",
    "        for p in self.optimizer.param_groups:\n",
    "            p['lr'] = rate\n",
    "        self._rate = rate\n",
    "        self.optimizer.step()\n",
    "        \n",
    "    def rate(self, step = None):\n",
    "        \"Implement `lrate` above\"\n",
    "        if step is None:\n",
    "            step = self._step\n",
    "        return self.factor * \\\n",
    "            (self.model_size ** (-0.5) *\n",
    "            min(step ** (-0.5), step * self.warmup ** (-1.5)))\n",
    "        \n",
    "def get_std_opt(model):\n",
    "    return NoamOpt(model.src_embed[0].d_model, 2, 4000,\n",
    "            torch.optim.Adam(model.parameters(), lr=0, betas=(0.9, 0.98), eps=1e-9))"
   ]
  },
  {
   "cell_type": "code",
   "execution_count": 29,
   "metadata": {},
   "outputs": [
    {
     "data": {
      "image/png": "[encoded data removed]",
      "text/plain": [
       "<Figure size 432x288 with 1 Axes>"
      ]
     },
     "metadata": {
      "needs_background": "light"
     },
     "output_type": "display_data"
    }
   ],
   "source": [
    "# Three settings of the lrate hyperparameters.\n",
    "opts = [NoamOpt(512, 1, 4000, None), \n",
    "        NoamOpt(512, 1, 8000, None),\n",
    "        NoamOpt(256, 1, 4000, None)]\n",
    "plt.plot(np.arange(1, 20000), [[opt.rate(i) for opt in opts] for i in range(1, 20000)])\n",
    "plt.legend([\"512:4000\", \"512:8000\", \"256:4000\"])\n",
    "None"
   ]
  },
  {
   "cell_type": "code",
   "execution_count": 30,
   "metadata": {},
   "outputs": [],
   "source": [
    "class LabelSmoothing(nn.Module):\n",
    "    \"Implement label smoothing.\"\n",
    "    def __init__(self, size, padding_idx, smoothing=0.0):\n",
    "        super(LabelSmoothing, self).__init__()\n",
    "        self.criterion = nn.KLDivLoss(size_average=False)\n",
    "        self.padding_idx = padding_idx\n",
    "        self.confidence = 1.0 - smoothing\n",
    "        self.smoothing = smoothing\n",
    "        self.size = size\n",
    "        self.true_dist = None\n",
    "        \n",
    "    def forward(self, x, target):\n",
    "        assert x.size(1) == self.size\n",
    "        true_dist = x.data.clone()\n",
    "        true_dist.fill_(self.smoothing / (self.size - 2))\n",
    "        true_dist.scatter_(1, target.data.unsqueeze(1), self.confidence)\n",
    "        true_dist[:, self.padding_idx] = 0\n",
    "        mask = torch.nonzero(target.data == self.padding_idx)\n",
    "        if mask.dim() > 0:\n",
    "            true_dist.index_fill_(0, mask.squeeze(), 0.0)\n",
    "        self.true_dist = true_dist\n",
    "        return self.criterion(x, Variable(true_dist, requires_grad=False))"
   ]
  },
  {
   "cell_type": "code",
   "execution_count": 31,
   "metadata": {},
   "outputs": [
    {
     "name": "stderr",
     "output_type": "stream",
     "text": [
      "/home/jkfirst/workspace/git/LaH/env/lib/python3.6/site-packages/torch/nn/_reduction.py:43: UserWarning: size_average and reduce args will be deprecated, please use reduction='sum' instead.\n",
      "  warnings.warn(warning.format(ret))\n"
     ]
    },
    {
     "data": {
      "image/png": "[encoded data removed]",
      "text/plain": [
       "<Figure size 432x288 with 1 Axes>"
      ]
     },
     "metadata": {
      "needs_background": "light"
     },
     "output_type": "display_data"
    }
   ],
   "source": [
    "#Example of label smoothing.\n",
    "crit = LabelSmoothing(5, 0, 0.4)\n",
    "predict = torch.FloatTensor([[0, 0.2, 0.7, 0.1, 0],\n",
    "                             [0, 0.2, 0.7, 0.1, 0], \n",
    "                             [0, 0.2, 0.7, 0.1, 0]])\n",
    "v = crit(Variable(predict.log()), \n",
    "         Variable(torch.LongTensor([2, 1, 0])))\n",
    "\n",
    "# Show the target distributions expected by the system.\n",
    "plt.imshow(crit.true_dist)\n",
    "None"
   ]
  },
  {
   "cell_type": "code",
   "execution_count": 32,
   "metadata": {},
   "outputs": [
    {
     "data": {
      "image/png": "[encoded data removed]",
      "text/plain": [
       "<Figure size 432x288 with 1 Axes>"
      ]
     },
     "metadata": {
      "needs_background": "light"
     },
     "output_type": "display_data"
    }
   ],
   "source": [
    "crit = LabelSmoothing(5, 0, 0.1)\n",
    "def loss(x):\n",
    "    d = x + 3 * 1\n",
    "    predict = torch.FloatTensor([[0, x / d, 1 / d, 1 / d, 1 / d],\n",
    "                                 ])\n",
    "    c = crit(Variable(predict.log()), Variable(torch.LongTensor([1])))\n",
    "    return c.data.item()\n",
    "plt.plot(np.arange(1, 100), [loss(x) for x in range(1, 100)])\n",
    "None"
   ]
  },
  {
   "cell_type": "code",
   "execution_count": 33,
   "metadata": {},
   "outputs": [],
   "source": [
    "class SimpleLossCompute:\n",
    "    \"A simple loss compute and train function.\"\n",
    "    def __init__(self, generator, criterion, opt=None):\n",
    "        self.generator = generator\n",
    "        self.criterion = criterion\n",
    "        self.opt = opt\n",
    "        \n",
    "    def __call__(self, x, y, norm):\n",
    "        x = self.generator(x)\n",
    "        loss = self.criterion(x.contiguous().view(-1, x.size(-1)), \n",
    "                              y.contiguous().view(-1)) / norm\n",
    "        loss.backward()\n",
    "        if self.opt is not None:\n",
    "            self.opt.step()\n",
    "            self.opt.optimizer.zero_grad()\n",
    "        return loss.data.item() * norm"
   ]
  },
  {
   "cell_type": "code",
   "execution_count": 34,
   "metadata": {},
   "outputs": [
    {
     "name": "stderr",
     "output_type": "stream",
     "text": [
      "/home/jkfirst/workspace/git/LaH/env/lib/python3.6/site-packages/torch/nn/_reduction.py:43: UserWarning: size_average and reduce args will be deprecated, please use reduction='sum' instead.\n",
      "  warnings.warn(warning.format(ret))\n",
      "/home/jkfirst/workspace/git/LaH/env/lib/python3.6/site-packages/ipykernel_launcher.py:19: UserWarning: nn.init.xavier_uniform is now deprecated in favor of nn.init.xavier_uniform_.\n"
     ]
    }
   ],
   "source": [
    "# Train the simple copy task.\n",
    "V = 10000\n",
    "criterion = LabelSmoothing(size=V, padding_idx=0, smoothing=0.0)\n",
    "model = make_model(V, V)\n",
    "model_opt = NoamOpt(model.src_embed[0].d_model, 1, 400,\n",
    "        torch.optim.Adam(model.parameters(), lr=0, betas=(0.9, 0.98), eps=1e-9))"
   ]
  },
  {
   "cell_type": "code",
   "execution_count": 35,
   "metadata": {},
   "outputs": [
    {
     "name": "stdout",
     "output_type": "stream",
     "text": [
      "Epoch Step: 1 Loss: 9.236407 Tokens per Sec: 92.012199\n",
      "Epoch Step: 51 Loss: 6.661267 Tokens per Sec: 104.818481\n",
      "Epoch Step: 101 Loss: 5.460552 Tokens per Sec: 106.896980\n",
      "Epoch Step: 151 Loss: 4.445307 Tokens per Sec: 104.183876\n",
      "Epoch Step: 201 Loss: 5.088363 Tokens per Sec: 111.045815\n",
      "Epoch Step: 251 Loss: 5.522360 Tokens per Sec: 154.245819\n",
      "Epoch Step: 301 Loss: 5.200480 Tokens per Sec: 152.021515\n",
      "Epoch Step: 351 Loss: 4.470091 Tokens per Sec: 142.346436\n",
      "Epoch Step: 401 Loss: 3.513521 Tokens per Sec: 129.800110\n",
      "Epoch Step: 451 Loss: 4.830554 Tokens per Sec: 100.446251\n",
      "Epoch Step: 501 Loss: 3.620784 Tokens per Sec: 89.733421\n",
      "Epoch Step: 551 Loss: 3.962480 Tokens per Sec: 90.463333\n",
      "Epoch Step: 601 Loss: 4.881327 Tokens per Sec: 92.992744\n",
      "Epoch Step: 651 Loss: 3.826474 Tokens per Sec: 101.211586\n",
      "Epoch Step: 701 Loss: 3.672492 Tokens per Sec: 104.364899\n",
      "Epoch Step: 751 Loss: 4.272777 Tokens per Sec: 112.081589\n",
      "Epoch Step: 801 Loss: 5.219074 Tokens per Sec: 113.504883\n",
      "Epoch Step: 851 Loss: 4.677929 Tokens per Sec: 116.646141\n",
      "Epoch Step: 901 Loss: 4.669547 Tokens per Sec: 112.452126\n",
      "Epoch Step: 951 Loss: 3.939871 Tokens per Sec: 102.999832\n",
      "Epoch Step: 1001 Loss: 2.933864 Tokens per Sec: 97.335518\n",
      "Epoch Step: 1051 Loss: 4.079013 Tokens per Sec: 93.844383\n",
      "Epoch Step: 1101 Loss: 3.098979 Tokens per Sec: 94.466331\n"
     ]
    },
    {
     "ename": "KeyboardInterrupt",
     "evalue": "",
     "output_type": "error",
     "traceback": [
      "\u001b[0;31m---------------------------------------------------------------------------\u001b[0m",
      "\u001b[0;31mKeyboardInterrupt\u001b[0m                         Traceback (most recent call last)",
      "\u001b[0;32m<ipython-input-35-3609a4525a1a>\u001b[0m in \u001b[0;36m<module>\u001b[0;34m\u001b[0m\n\u001b[1;32m      2\u001b[0m     \u001b[0mmodel\u001b[0m\u001b[0;34m.\u001b[0m\u001b[0mtrain\u001b[0m\u001b[0;34m(\u001b[0m\u001b[0;34m)\u001b[0m\u001b[0;34m\u001b[0m\u001b[0;34m\u001b[0m\u001b[0m\n\u001b[1;32m      3\u001b[0m     run_epoch(dataloader, model, \n\u001b[0;32m----> 4\u001b[0;31m               SimpleLossCompute(model.generator, criterion, model_opt))\n\u001b[0m\u001b[1;32m      5\u001b[0m     \u001b[0;32mbreak\u001b[0m\u001b[0;34m\u001b[0m\u001b[0;34m\u001b[0m\u001b[0m\n\u001b[1;32m      6\u001b[0m     \u001b[0;31m#model.eval()\u001b[0m\u001b[0;34m\u001b[0m\u001b[0;34m\u001b[0m\u001b[0;34m\u001b[0m\u001b[0m\n",
      "\u001b[0;32m<ipython-input-26-f766508a6612>\u001b[0m in \u001b[0;36mrun_epoch\u001b[0;34m(dataloader, model, loss_compute)\u001b[0m\n\u001b[1;32m     10\u001b[0m         \u001b[0;31m#'''\u001b[0m\u001b[0;34m\u001b[0m\u001b[0;34m\u001b[0m\u001b[0;34m\u001b[0m\u001b[0m\n\u001b[1;32m     11\u001b[0m         \u001b[0mout\u001b[0m \u001b[0;34m=\u001b[0m \u001b[0mmodel\u001b[0m\u001b[0;34m.\u001b[0m\u001b[0mforward\u001b[0m\u001b[0;34m(\u001b[0m\u001b[0mbatch_src\u001b[0m\u001b[0;34m,\u001b[0m \u001b[0mbatch_trg\u001b[0m\u001b[0;34m,\u001b[0m \u001b[0mbatch_src_mask\u001b[0m\u001b[0;34m,\u001b[0m \u001b[0mbatch_trg_mask\u001b[0m\u001b[0;34m)\u001b[0m\u001b[0;34m\u001b[0m\u001b[0;34m\u001b[0m\u001b[0m\n\u001b[0;32m---> 12\u001b[0;31m         \u001b[0mloss\u001b[0m \u001b[0;34m=\u001b[0m \u001b[0mloss_compute\u001b[0m\u001b[0;34m(\u001b[0m\u001b[0mout\u001b[0m\u001b[0;34m,\u001b[0m \u001b[0mbatch_trg\u001b[0m\u001b[0;34m,\u001b[0m \u001b[0mbatch_ntokens\u001b[0m\u001b[0;34m)\u001b[0m\u001b[0;34m\u001b[0m\u001b[0;34m\u001b[0m\u001b[0m\n\u001b[0m\u001b[1;32m     13\u001b[0m         \u001b[0mtotal_loss\u001b[0m \u001b[0;34m+=\u001b[0m \u001b[0mloss\u001b[0m\u001b[0;34m\u001b[0m\u001b[0;34m\u001b[0m\u001b[0m\n\u001b[1;32m     14\u001b[0m         \u001b[0mtotal_tokens\u001b[0m \u001b[0;34m+=\u001b[0m \u001b[0mbatch_ntokens\u001b[0m\u001b[0;34m\u001b[0m\u001b[0;34m\u001b[0m\u001b[0m\n",
      "\u001b[0;32m<ipython-input-33-6396af67fd27>\u001b[0m in \u001b[0;36m__call__\u001b[0;34m(self, x, y, norm)\u001b[0m\n\u001b[1;32m     10\u001b[0m         loss = self.criterion(x.contiguous().view(-1, x.size(-1)), \n\u001b[1;32m     11\u001b[0m                               y.contiguous().view(-1)) / norm\n\u001b[0;32m---> 12\u001b[0;31m         \u001b[0mloss\u001b[0m\u001b[0;34m.\u001b[0m\u001b[0mbackward\u001b[0m\u001b[0;34m(\u001b[0m\u001b[0;34m)\u001b[0m\u001b[0;34m\u001b[0m\u001b[0;34m\u001b[0m\u001b[0m\n\u001b[0m\u001b[1;32m     13\u001b[0m         \u001b[0;32mif\u001b[0m \u001b[0mself\u001b[0m\u001b[0;34m.\u001b[0m\u001b[0mopt\u001b[0m \u001b[0;32mis\u001b[0m \u001b[0;32mnot\u001b[0m \u001b[0;32mNone\u001b[0m\u001b[0;34m:\u001b[0m\u001b[0;34m\u001b[0m\u001b[0;34m\u001b[0m\u001b[0m\n\u001b[1;32m     14\u001b[0m             \u001b[0mself\u001b[0m\u001b[0;34m.\u001b[0m\u001b[0mopt\u001b[0m\u001b[0;34m.\u001b[0m\u001b[0mstep\u001b[0m\u001b[0;34m(\u001b[0m\u001b[0;34m)\u001b[0m\u001b[0;34m\u001b[0m\u001b[0;34m\u001b[0m\u001b[0m\n",
      "\u001b[0;32m~/workspace/git/LaH/env/lib/python3.6/site-packages/torch/tensor.py\u001b[0m in \u001b[0;36mbackward\u001b[0;34m(self, gradient, retain_graph, create_graph)\u001b[0m\n\u001b[1;32m    193\u001b[0m                 \u001b[0mproducts\u001b[0m\u001b[0;34m.\u001b[0m \u001b[0mDefaults\u001b[0m \u001b[0mto\u001b[0m\u001b[0;31m \u001b[0m\u001b[0;31m`\u001b[0m\u001b[0;31m`\u001b[0m\u001b[0;32mFalse\u001b[0m\u001b[0;31m`\u001b[0m\u001b[0;31m`\u001b[0m\u001b[0;34m.\u001b[0m\u001b[0;34m\u001b[0m\u001b[0;34m\u001b[0m\u001b[0m\n\u001b[1;32m    194\u001b[0m         \"\"\"\n\u001b[0;32m--> 195\u001b[0;31m         \u001b[0mtorch\u001b[0m\u001b[0;34m.\u001b[0m\u001b[0mautograd\u001b[0m\u001b[0;34m.\u001b[0m\u001b[0mbackward\u001b[0m\u001b[0;34m(\u001b[0m\u001b[0mself\u001b[0m\u001b[0;34m,\u001b[0m \u001b[0mgradient\u001b[0m\u001b[0;34m,\u001b[0m \u001b[0mretain_graph\u001b[0m\u001b[0;34m,\u001b[0m \u001b[0mcreate_graph\u001b[0m\u001b[0;34m)\u001b[0m\u001b[0;34m\u001b[0m\u001b[0;34m\u001b[0m\u001b[0m\n\u001b[0m\u001b[1;32m    196\u001b[0m \u001b[0;34m\u001b[0m\u001b[0m\n\u001b[1;32m    197\u001b[0m     \u001b[0;32mdef\u001b[0m \u001b[0mregister_hook\u001b[0m\u001b[0;34m(\u001b[0m\u001b[0mself\u001b[0m\u001b[0;34m,\u001b[0m \u001b[0mhook\u001b[0m\u001b[0;34m)\u001b[0m\u001b[0;34m:\u001b[0m\u001b[0;34m\u001b[0m\u001b[0;34m\u001b[0m\u001b[0m\n",
      "\u001b[0;32m~/workspace/git/LaH/env/lib/python3.6/site-packages/torch/autograd/__init__.py\u001b[0m in \u001b[0;36mbackward\u001b[0;34m(tensors, grad_tensors, retain_graph, create_graph, grad_variables)\u001b[0m\n\u001b[1;32m     97\u001b[0m     Variable._execution_engine.run_backward(\n\u001b[1;32m     98\u001b[0m         \u001b[0mtensors\u001b[0m\u001b[0;34m,\u001b[0m \u001b[0mgrad_tensors\u001b[0m\u001b[0;34m,\u001b[0m \u001b[0mretain_graph\u001b[0m\u001b[0;34m,\u001b[0m \u001b[0mcreate_graph\u001b[0m\u001b[0;34m,\u001b[0m\u001b[0;34m\u001b[0m\u001b[0;34m\u001b[0m\u001b[0m\n\u001b[0;32m---> 99\u001b[0;31m         allow_unreachable=True)  # allow_unreachable flag\n\u001b[0m\u001b[1;32m    100\u001b[0m \u001b[0;34m\u001b[0m\u001b[0m\n\u001b[1;32m    101\u001b[0m \u001b[0;34m\u001b[0m\u001b[0m\n",
      "\u001b[0;31mKeyboardInterrupt\u001b[0m: "
     ]
    }
   ],
   "source": [
    "for epoch in range(10):\n",
    "    model.train()\n",
    "    run_epoch(dataloader, model, \n",
    "              SimpleLossCompute(model.generator, criterion, model_opt))\n",
    "    break\n",
    "    #model.eval()\n",
    "    #print(run_epoch(data_gen(V, 30, 5), model, \n",
    "    #                SimpleLossCompute(model.generator, criterion, None)))"
   ]
  },
  {
   "cell_type": "code",
   "execution_count": null,
   "metadata": {},
   "outputs": [],
   "source": []
  },
  {
   "cell_type": "code",
   "execution_count": null,
   "metadata": {},
   "outputs": [],
   "source": []
  },
  {
   "cell_type": "code",
   "execution_count": null,
   "metadata": {},
   "outputs": [],
   "source": []
  },
  {
   "cell_type": "code",
   "execution_count": null,
   "metadata": {},
   "outputs": [],
   "source": []
  },
  {
   "cell_type": "markdown",
   "metadata": {},
   "source": [
    "\n",
    "### make data generator"
   ]
  },
  {
   "cell_type": "code",
   "execution_count": 46,
   "metadata": {},
   "outputs": [],
   "source": [
    "from dataset import load_dataset"
   ]
  },
  {
   "cell_type": "code",
   "execution_count": 47,
   "metadata": {},
   "outputs": [
    {
     "name": "stdout",
     "output_type": "stream",
     "text": [
      "Exception: 187th sentence of /home/jkfirst/workspace/git/LaH/dataset/Corpus10/cekcorpus31.txt: 'cp949' codec can't decode byte 0xc9 in position 7412: illegal multibyte sequence\n",
      ">> 61106 sentence pairs loaded\n",
      ">> 62106 sentence pairs loaded\n"
     ]
    }
   ],
   "source": [
    "sent_pairs = load_dataset()"
   ]
  },
  {
   "cell_type": "code",
   "execution_count": 48,
   "metadata": {},
   "outputs": [
    {
     "data": {
      "text/plain": [
       "['<start> 음악이 퍼져 나오기 시작했다 <end>', '<start> the music began to play <end>']"
      ]
     },
     "execution_count": 48,
     "metadata": {},
     "output_type": "execute_result"
    }
   ],
   "source": [
    "sent_pairs[0]"
   ]
  },
  {
   "cell_type": "raw",
   "metadata": {},
   "source": [
    "def data_gen(V, batch, nbatches):\n",
    "    \"Generate random data for a src-tgt copy task.\"\n",
    "    for i in range(nbatches):\n",
    "        data = torch.from_numpy(np.random.randint(1, V, size=(batch, 10)))\n",
    "        data[:, 0] = 1\n",
    "        src = Variable(data, requires_grad=False)\n",
    "        tgt = Variable(data, requires_grad=False)\n",
    "        yield Batch(src, tgt, 0)"
   ]
  },
  {
   "cell_type": "code",
   "execution_count": 74,
   "metadata": {},
   "outputs": [],
   "source": [
    "def sentence_pair_gen(sent_pairs):\n",
    "    for pair in sent_pairs:\n",
    "        yield TranslationText(kr=pair[0], en=pair[1])"
   ]
  },
  {
   "cell_type": "code",
   "execution_count": 63,
   "metadata": {},
   "outputs": [],
   "source": [
    "from transformers import BertTokenizer\n",
    "from kogpt2.utils import get_tokenizer\n",
    "from gluonnlp.data import SentencepieceTokenizer\n",
    "from kogpt2.pytorch_kogpt2 import get_pytorch_kogpt2_model\n",
    "from torch.utils.data import Dataset, DataLoader"
   ]
  },
  {
   "cell_type": "code",
   "execution_count": 56,
   "metadata": {},
   "outputs": [],
   "source": [
    "model_nm = 'bert-large-uncased'\n",
    "tokenizer = BertTokenizer.from_pretrained(model_nm)\n",
    "eng_tokenizer = tokenizer.tokenize\n",
    "\n",
    "embedding_size = 10\n",
    "hidden_size = 32\n",
    "n_batch = 8"
   ]
  },
  {
   "cell_type": "code",
   "execution_count": 59,
   "metadata": {},
   "outputs": [
    {
     "name": "stdout",
     "output_type": "stream",
     "text": [
      "using cached model\n",
      "using cached model\n",
      "using cached model\n"
     ]
    }
   ],
   "source": [
    "tok_path = get_tokenizer()\n",
    "kor_tokenizer = SentencepieceTokenizer(tok_path)\n",
    "_, vocab = get_pytorch_kogpt2_model()"
   ]
  },
  {
   "cell_type": "code",
   "execution_count": 60,
   "metadata": {},
   "outputs": [],
   "source": [
    "def convert_string_to_index(kr=None, en=None, kr_pad=tokenizer.vocab['[PAD]'], en_pad=vocab(['<pad>'])[0], maxlen=50):\n",
    "    '''\n",
    "        convert korean/english sentence into its own indices.\n",
    "        maximum length of converted indices is `maxlen`\n",
    "    '''\n",
    "    assert (kr != None) or (en != None), 'one of either kr or en should have a value'\n",
    "    kr_index, en_index = None, None\n",
    "    \n",
    "    if kr:\n",
    "        kr_index = vocab(kor_tokenizer(kr))\n",
    "        if len(kr_index) > maxlen:\n",
    "            kr_index = kr_index[:maxlen]\n",
    "        else:\n",
    "            kr_index = kr_index + [kr_pad] * (maxlen-len(kr_index))\n",
    "    if en:\n",
    "        en_index = tokenizer.convert_tokens_to_ids(eng_tokenizer(en))\n",
    "        if len(en_index) > maxlen:\n",
    "            en_index = en_index[:maxlen]\n",
    "        else:\n",
    "            en_index = en_index + [en_pad] * (maxlen-len(en_index))\n",
    "        \n",
    "    return kr_index, en_index"
   ]
  },
  {
   "cell_type": "code",
   "execution_count": 61,
   "metadata": {},
   "outputs": [],
   "source": [
    "class TranslationText():\n",
    "    def __init__(self, kr, en):\n",
    "        self.kr = kr\n",
    "        self.en = en"
   ]
  },
  {
   "cell_type": "code",
   "execution_count": 82,
   "metadata": {},
   "outputs": [],
   "source": [
    "class TranslationDataset(Dataset):\n",
    "    \"\"\"Translation dataset.\"\"\"\n",
    "\n",
    "    def __init__(self, sent_pairs, transform=None, names=['kor', 'eng'], sep='\\t'):\n",
    "        \"\"\"\n",
    "        Args:\n",
    "            csv_file (string): Path to the csv file with annotations.\n",
    "            root_dir (string): Directory with all the images.\n",
    "            transform (callable, optional): Optional transform to be applied\n",
    "                on a sample.\n",
    "            names (list): A list of column names\n",
    "            sep (string): A string that is used for a delimiter.\n",
    "        \"\"\"\n",
    "        self.sengen = sentence_pair_gen(sent_pairs)\n",
    "        self.transform = transform\n",
    "\n",
    "    def __len__(self):\n",
    "        return len(sent_pairs)\n",
    "\n",
    "    def __getitem__(self, idx):\n",
    "        if torch.is_tensor(idx):\n",
    "            idx = idx.tolist()\n",
    "            \n",
    "        onerow =  next(self.sengen)\n",
    "        kr_index, en_index = convert_string_to_index(kr=onerow.kr, en=onerow.en)\n",
    "        kor_tensor = torch.LongTensor(kr_index)\n",
    "        eng_tensor = torch.LongTensor(en_index)\n",
    "        return (kor_tensor, eng_tensor)"
   ]
  },
  {
   "cell_type": "code",
   "execution_count": 83,
   "metadata": {},
   "outputs": [],
   "source": [
    "dataset = TranslationDataset(sent_pairs)"
   ]
  },
  {
   "cell_type": "code",
   "execution_count": 84,
   "metadata": {},
   "outputs": [
    {
     "data": {
      "text/plain": [
       "(tensor([  964, 39786, 47914, 29492, 16719, 25915,  2813,   964,  6339, 47914,\n",
       "             0,     0,     0,     0,     0,     0,     0,     0,     0,     0,\n",
       "             0,     0,     0,     0,     0,     0,     0,     0,     0,     0,\n",
       "             0,     0,     0,     0,     0,     0,     0,     0,     0,     0,\n",
       "             0,     0,     0,     0,     0,     0,     0,     0,     0,     0]),\n",
       " tensor([1026, 2707, 1028, 1996, 2189, 2211, 2000, 2377, 1026, 2203, 1028,    3,\n",
       "            3,    3,    3,    3,    3,    3,    3,    3,    3,    3,    3,    3,\n",
       "            3,    3,    3,    3,    3,    3,    3,    3,    3,    3,    3,    3,\n",
       "            3,    3,    3,    3,    3,    3,    3,    3,    3,    3,    3,    3,\n",
       "            3,    3]))"
      ]
     },
     "execution_count": 84,
     "metadata": {},
     "output_type": "execute_result"
    }
   ],
   "source": [
    "dataset[0]"
   ]
  },
  {
   "cell_type": "raw",
   "metadata": {},
   "source": [
    "class Batch:\n",
    "    \"Object for holding a batch of data with mask during training.\"\n",
    "    def __init__(self, src, trg=None, pad=0):\n",
    "        self.src = src\n",
    "        self.src_mask = (src != pad).unsqueeze(-2)\n",
    "        if trg is not None:\n",
    "            self.trg = trg[:, :-1]\n",
    "            self.trg_y = trg[:, 1:]\n",
    "            self.trg_mask = \\\n",
    "                self.make_std_mask(self.trg, pad)\n",
    "            self.ntokens = (self.trg_y != pad).data.sum()\n",
    "    \n",
    "    @staticmethod\n",
    "    def make_std_mask(tgt, pad):\n",
    "        \"Create a mask to hide padding and future words.\"\n",
    "        tgt_mask = (tgt != pad).unsqueeze(-2)\n",
    "        tgt_mask = tgt_mask & Variable(\n",
    "            subsequent_mask(tgt.size(-1)).type_as(tgt_mask.data))\n",
    "        return tgt_mask"
   ]
  },
  {
   "cell_type": "code",
   "execution_count": null,
   "metadata": {},
   "outputs": [],
   "source": []
  },
  {
   "cell_type": "code",
   "execution_count": null,
   "metadata": {},
   "outputs": [],
   "source": []
  }
 ],
 "metadata": {
  "kernelspec": {
   "display_name": "lah",
   "language": "python",
   "name": "env"
  }
 },
 "nbformat": 4,
 "nbformat_minor": 4
}
