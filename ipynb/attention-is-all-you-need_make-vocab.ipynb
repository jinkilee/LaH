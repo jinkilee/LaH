{
 "cells": [
  {
   "cell_type": "markdown",
   "metadata": {},
   "source": [
    "### Translation for kor → eng"
   ]
  },
  {
   "cell_type": "code",
   "execution_count": 1,
   "metadata": {},
   "outputs": [],
   "source": [
    "import sys\n",
    "sys.path.insert(0, '../attention-is-all-you-need/')\n",
    "sys.path.insert(0, '../')"
   ]
  },
  {
   "cell_type": "code",
   "execution_count": 2,
   "metadata": {},
   "outputs": [],
   "source": [
    "import sentencepiece as spm\n",
    "import random\n",
    "import pandas as pd\n",
    "import os\n",
    "import numpy as np\n",
    "from setting import *\n",
    "from dataset import load_dataset"
   ]
  },
  {
   "cell_type": "code",
   "execution_count": 3,
   "metadata": {},
   "outputs": [],
   "source": [
    "def load_dataset_aihub(path='../dataset/aihub'):\n",
    "    sent_pairs = []\n",
    "    for f in os.listdir(path):\n",
    "        one_df = pd.read_excel(os.path.join(path, f))\n",
    "        one_df = one_df.rename(columns={\n",
    "            '영어':'eng',\n",
    "            '한국어':'kor',\n",
    "            '원문':'kor',\n",
    "            '영어 검수':'label',\n",
    "            '영어검수':'label',\n",
    "            '번역문':'label',\n",
    "            'Review':'label',\n",
    "            'REVIEW':'label',\n",
    "        })\n",
    "        sent_pairs.extend(one_df[['kor','label']].values.tolist())\n",
    "    return sent_pairs"
   ]
  },
  {
   "cell_type": "code",
   "execution_count": 4,
   "metadata": {},
   "outputs": [
    {
     "name": "stdout",
     "output_type": "stream",
     "text": [
      "1_con_1.xlsx\n",
      "6_off.xlsx\n",
      "2_conv3.xlsx\n",
      "5_off.xlsx\n",
      "3_off_2.xlsx\n",
      "4_off.xlsx\n",
      "3_off_3.xlsx\n",
      "3_off_4.xlsx\n",
      "1_con_2.xlsx\n",
      "3_off_1.xlsx\n"
     ]
    }
   ],
   "source": [
    "sent_pairs = load_dataset_aihub()"
   ]
  },
  {
   "cell_type": "code",
   "execution_count": 5,
   "metadata": {},
   "outputs": [],
   "source": [
    "with open('./spm_src.txt', 'w', encoding='utf-8') as f:\n",
    "    for sent in sent_pairs:\n",
    "        f.write('{}\\n'.format(sent[0]))"
   ]
  },
  {
   "cell_type": "code",
   "execution_count": 6,
   "metadata": {},
   "outputs": [],
   "source": [
    "with open('./spm_trg.txt', 'w', encoding='utf-8') as f:\n",
    "    for sent in sent_pairs:\n",
    "        f.write('{}\\n'.format(sent[1]))"
   ]
  },
  {
   "cell_type": "code",
   "execution_count": 7,
   "metadata": {},
   "outputs": [
    {
     "name": "stdout",
     "output_type": "stream",
     "text": [
      "  1602418 ./spm_src.txt\n",
      "  1602418 ./spm_trg.txt\n",
      "  3204836 total\n"
     ]
    }
   ],
   "source": [
    "! wc -l ./spm_*.txt"
   ]
  },
  {
   "cell_type": "code",
   "execution_count": 8,
   "metadata": {},
   "outputs": [
    {
     "name": "stdout",
     "output_type": "stream",
     "text": [
      "'Bible Coloring'은 성경의 아름다운 이야기를 체험 할 수 있는 컬러링 앱입니다.\r\n",
      "씨티은행에서 일하세요?\r\n",
      "푸리토의 베스트셀러는 해외에서 입소문만으로 4차 완판을 기록하였다.\r\n"
     ]
    }
   ],
   "source": [
    "! head -n 3 ./spm_src.txt"
   ]
  },
  {
   "cell_type": "code",
   "execution_count": 9,
   "metadata": {},
   "outputs": [
    {
     "name": "stdout",
     "output_type": "stream",
     "text": [
      "Bible Coloring' is a coloring application that allows you to experience beautiful stories in the Bible.\r\n",
      "Do you work at a City bank?\r\n",
      "PURITO's bestseller, which recorded 4th rough -cuts by words of mouth from abroad.\r\n"
     ]
    }
   ],
   "source": [
    "! head -n 3 ./spm_trg.txt"
   ]
  },
  {
   "cell_type": "code",
   "execution_count": 10,
   "metadata": {},
   "outputs": [],
   "source": [
    "random.shuffle(sent_pairs)"
   ]
  },
  {
   "cell_type": "code",
   "execution_count": 11,
   "metadata": {},
   "outputs": [
    {
     "data": {
      "text/plain": [
       "['이씨가 스타트업 투자에 관심을 갖게 된 것은 은둔의 투자 고수로 잘 알려진 장덕수 DS자산운용의 회장의 영향인 것으로 전해졌다.',\n",
       " \"Lee's interest in start-up investment is reportedly due to the influence of Jang Duk-soo, chairman of DS Asset Management Co., who is well known as a reclusive investment master.\"]"
      ]
     },
     "execution_count": 11,
     "metadata": {},
     "output_type": "execute_result"
    }
   ],
   "source": [
    "sent_pairs[0]"
   ]
  },
  {
   "cell_type": "code",
   "execution_count": 12,
   "metadata": {},
   "outputs": [
    {
     "data": {
      "text/plain": [
       "('spm-src-50000', 'spm-trg-32000')"
      ]
     },
     "execution_count": 12,
     "metadata": {},
     "output_type": "execute_result"
    }
   ],
   "source": [
    "src_vocab_size = 50000  # 50000\n",
    "trg_vocab_size = 32000  # 32000\n",
    "src_prefix = 'spm-src-{}'.format(src_vocab_size)\n",
    "trg_prefix = 'spm-trg-{}'.format(trg_vocab_size)\n",
    "src_prefix, trg_prefix"
   ]
  },
  {
   "cell_type": "code",
   "execution_count": 13,
   "metadata": {},
   "outputs": [
    {
     "data": {
      "text/plain": [
       "'--input=./spm_src.txt --pad_id=0 --bos_id=1 --eos_id=2 --unk_id=3 --model_prefix=spm-src-50000 --vocab_size=50000 --character_coverage=1.0 --model_type=unigram'"
      ]
     },
     "execution_count": 13,
     "metadata": {},
     "output_type": "execute_result"
    }
   ],
   "source": [
    "src_cmd = templates.format(\n",
    "    src_input_file,\n",
    "    pad_id,\n",
    "    bos_id,\n",
    "    eos_id,\n",
    "    unk_id,\n",
    "    src_prefix,\n",
    "    src_vocab_size,\n",
    "    character_coverage,\n",
    "    model_type)\n",
    "src_cmd"
   ]
  },
  {
   "cell_type": "code",
   "execution_count": 14,
   "metadata": {},
   "outputs": [
    {
     "data": {
      "text/plain": [
       "'--input=./spm_trg.txt --pad_id=0 --bos_id=1 --eos_id=2 --unk_id=3 --model_prefix=spm-trg-32000 --vocab_size=32000 --character_coverage=1.0 --model_type=unigram'"
      ]
     },
     "execution_count": 14,
     "metadata": {},
     "output_type": "execute_result"
    }
   ],
   "source": [
    "trg_cmd = templates.format(\n",
    "    trg_input_file,\n",
    "    pad_id,\n",
    "    bos_id,\n",
    "    eos_id,\n",
    "    unk_id,\n",
    "    trg_prefix,\n",
    "    trg_vocab_size,\n",
    "    character_coverage,\n",
    "    model_type)\n",
    "trg_cmd"
   ]
  },
  {
   "cell_type": "code",
   "execution_count": 15,
   "metadata": {},
   "outputs": [
    {
     "data": {
      "text/plain": [
       "True"
      ]
     },
     "execution_count": 15,
     "metadata": {},
     "output_type": "execute_result"
    }
   ],
   "source": [
    "spm.SentencePieceTrainer.Train(src_cmd)\n",
    "spm.SentencePieceTrainer.Train(trg_cmd)"
   ]
  },
  {
   "cell_type": "code",
   "execution_count": 16,
   "metadata": {},
   "outputs": [
    {
     "name": "stdout",
     "output_type": "stream",
     "text": [
      "-rw-r--r-- 1 jkfirst deep-learners 1.2M  3월 26 10:40 spm-src-50000.model\r\n",
      "-rw-r--r-- 1 jkfirst deep-learners 790K  3월 26 10:43 spm-trg-32000.model\r\n"
     ]
    }
   ],
   "source": [
    "! ls -alh *.model"
   ]
  },
  {
   "cell_type": "code",
   "execution_count": 17,
   "metadata": {},
   "outputs": [
    {
     "data": {
      "text/plain": [
       "True"
      ]
     },
     "execution_count": 17,
     "metadata": {},
     "output_type": "execute_result"
    }
   ],
   "source": [
    "src_spm = spm.SentencePieceProcessor()\n",
    "trg_spm = spm.SentencePieceProcessor()\n",
    "src_spm.Load('{}.model'.format(src_prefix)) \n",
    "trg_spm.Load('{}.model'.format(trg_prefix))"
   ]
  },
  {
   "cell_type": "code",
   "execution_count": 18,
   "metadata": {},
   "outputs": [
    {
     "data": {
      "text/plain": [
       "['<pad>\\t0',\n",
       " '<s>\\t0',\n",
       " '</s>\\t0',\n",
       " '<unk>\\t0',\n",
       " '.\\t-3.13177',\n",
       " '을\\t-4.00631',\n",
       " '의\\t-4.18175',\n",
       " ',\\t-4.19567',\n",
       " '를\\t-4.43072',\n",
       " '가\\t-4.50283']"
      ]
     },
     "execution_count": 18,
     "metadata": {},
     "output_type": "execute_result"
    }
   ],
   "source": [
    "with open('{}.vocab'.format(src_prefix), encoding='utf-8') as f:\n",
    "    src_vocab = [doc.strip() for doc in f]\n",
    "src_vocab[:10]"
   ]
  },
  {
   "cell_type": "code",
   "execution_count": 19,
   "metadata": {},
   "outputs": [
    {
     "data": {
      "text/plain": [
       "['<pad>\\t0',\n",
       " '<s>\\t0',\n",
       " '</s>\\t0',\n",
       " '<unk>\\t0',\n",
       " '▁the\\t-2.83348',\n",
       " ',\\t-3.18371',\n",
       " '.\\t-3.36705',\n",
       " '▁of\\t-3.55772',\n",
       " '▁and\\t-3.77369',\n",
       " '▁to\\t-3.80794']"
      ]
     },
     "execution_count": 19,
     "metadata": {},
     "output_type": "execute_result"
    }
   ],
   "source": [
    "with open('{}.vocab'.format(trg_prefix), encoding='utf-8') as f:\n",
    "    trg_vocab = [doc.strip() for doc in f]\n",
    "trg_vocab[:10]"
   ]
  },
  {
   "cell_type": "code",
   "execution_count": 20,
   "metadata": {},
   "outputs": [
    {
     "data": {
      "text/plain": [
       "['▁레드벨벳',\n",
       " '▁조',\n",
       " '이',\n",
       " '가',\n",
       " '▁조세',\n",
       " '호를',\n",
       " '▁돕기',\n",
       " '▁위한',\n",
       " '▁특급',\n",
       " '▁게스트로',\n",
       " '▁나선다',\n",
       " '.']"
      ]
     },
     "execution_count": 20,
     "metadata": {},
     "output_type": "execute_result"
    }
   ],
   "source": [
    "idx = np.random.randint(0, len(sent_pairs))\n",
    "idx\n",
    "src_spm.EncodeAsPieces(sent_pairs[idx][0])"
   ]
  },
  {
   "cell_type": "code",
   "execution_count": 21,
   "metadata": {},
   "outputs": [
    {
     "data": {
      "text/plain": [
       "['▁President',\n",
       " '▁Trump',\n",
       " '▁also',\n",
       " '▁made',\n",
       " '▁remarks',\n",
       " '▁to',\n",
       " '▁Howard',\n",
       " '▁St',\n",
       " 'ern',\n",
       " '▁in',\n",
       " '▁1997',\n",
       " '▁disparaging',\n",
       " '▁the',\n",
       " '▁entire',\n",
       " '▁Vietnam',\n",
       " '▁War',\n",
       " ',',\n",
       " '▁saying',\n",
       " '▁avoiding',\n",
       " '▁v',\n",
       " 'ene',\n",
       " 'real',\n",
       " '▁diseases',\n",
       " '▁was',\n",
       " '▁\"',\n",
       " 'my',\n",
       " '▁personal',\n",
       " '▁Vietnam',\n",
       " '▁War',\n",
       " '.\"']"
      ]
     },
     "execution_count": 21,
     "metadata": {},
     "output_type": "execute_result"
    }
   ],
   "source": [
    "idx = np.random.randint(0, len(sent_pairs))\n",
    "trg_spm.EncodeAsPieces(sent_pairs[idx][1])"
   ]
  },
  {
   "cell_type": "code",
   "execution_count": 22,
   "metadata": {},
   "outputs": [
    {
     "data": {
      "text/plain": [
       "(['▁',\n",
       "  '특히',\n",
       "  '▁',\n",
       "  '현재',\n",
       "  '▁',\n",
       "  '교착상태에서',\n",
       "  '▁',\n",
       "  '벗어나',\n",
       "  '▁',\n",
       "  '다시',\n",
       "  '▁',\n",
       "  '비핵화',\n",
       "  '▁',\n",
       "  '프로세스가',\n",
       "  '▁',\n",
       "  '촉진되는',\n",
       "  '▁',\n",
       "  '데',\n",
       "  '▁',\n",
       "  '중국이',\n",
       "  '▁',\n",
       "  '기여하게',\n",
       "  '▁',\n",
       "  '된다면',\n",
       "  '▁',\n",
       "  '이후',\n",
       "  '▁',\n",
       "  '한반도',\n",
       "  '▁',\n",
       "  '평화와',\n",
       "  '▁',\n",
       "  '관련된',\n",
       "  '▁',\n",
       "  '논의에',\n",
       "  '▁',\n",
       "  '중국이',\n",
       "  '▁',\n",
       "  '당사자로',\n",
       "  '▁',\n",
       "  '참여할',\n",
       "  '▁',\n",
       "  '길이',\n",
       "  '▁',\n",
       "  '넓어진다',\n",
       "  '.'],\n",
       " ['▁In',\n",
       "  '▁particular',\n",
       "  ',',\n",
       "  '▁if',\n",
       "  '▁China',\n",
       "  '▁contribute',\n",
       "  's',\n",
       "  '▁to',\n",
       "  '▁promote',\n",
       "  '▁the',\n",
       "  '▁',\n",
       "  'denuclearization',\n",
       "  '▁process',\n",
       "  '▁again',\n",
       "  '▁by',\n",
       "  '▁coming',\n",
       "  '▁out',\n",
       "  '▁of',\n",
       "  '▁the',\n",
       "  '▁current',\n",
       "  '▁deadlock',\n",
       "  ',',\n",
       "  '▁China',\n",
       "  '▁will',\n",
       "  '▁have',\n",
       "  '▁more',\n",
       "  '▁ways',\n",
       "  '▁to',\n",
       "  '▁participate',\n",
       "  '▁as',\n",
       "  '▁a',\n",
       "  '▁party',\n",
       "  '▁in',\n",
       "  '▁future',\n",
       "  '▁discussions',\n",
       "  '▁on',\n",
       "  '▁peace',\n",
       "  '▁on',\n",
       "  '▁the',\n",
       "  '▁Korean',\n",
       "  '▁peninsula',\n",
       "  '.'])"
      ]
     },
     "execution_count": 22,
     "metadata": {},
     "output_type": "execute_result"
    }
   ],
   "source": [
    "idx = np.random.randint(0, len(sent_pairs))\n",
    "src_sent = trg_spm.EncodeAsPieces(sent_pairs[idx][0])\n",
    "trg_sent = trg_spm.EncodeAsPieces(sent_pairs[idx][1])\n",
    "src_sent, trg_sent"
   ]
  },
  {
   "cell_type": "code",
   "execution_count": 23,
   "metadata": {},
   "outputs": [
    {
     "data": {
      "text/plain": [
       "1602418"
      ]
     },
     "execution_count": 23,
     "metadata": {},
     "output_type": "execute_result"
    }
   ],
   "source": [
    "len(sent_pairs)"
   ]
  },
  {
   "cell_type": "code",
   "execution_count": null,
   "metadata": {},
   "outputs": [],
   "source": []
  }
 ],
 "metadata": {
  "kernelspec": {
   "display_name": "env",
   "language": "python",
   "name": "env"
  },
  "language_info": {
   "codemirror_mode": {
    "name": "ipython",
    "version": 3
   },
   "file_extension": ".py",
   "mimetype": "text/x-python",
   "name": "python",
   "nbconvert_exporter": "python",
   "pygments_lexer": "ipython3",
   "version": "3.6.8"
  }
 },
 "nbformat": 4,
 "nbformat_minor": 4
}
