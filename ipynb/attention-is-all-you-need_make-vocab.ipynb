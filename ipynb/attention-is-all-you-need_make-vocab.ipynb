{
 "cells": [
  {
   "cell_type": "markdown",
   "metadata": {},
   "source": [
    "### Translation for kor → eng"
   ]
  },
  {
   "cell_type": "markdown",
   "metadata": {},
   "source": [
    "o 연구개발명 : 한국어-영어 번역 모델 개발\n",
    "\n",
    "o 연구개발내용(요약) : 번역 모델 개발을 목적으로 학습하려고 함. 개인적인 공부 목적임.\n",
    "\n",
    "o 연구개발기간(예상) : 20년 3월 ~ 20년 12월"
   ]
  },
  {
   "cell_type": "code",
   "execution_count": 1,
   "metadata": {},
   "outputs": [],
   "source": [
    "import sys\n",
    "sys.path.insert(0, '../attention-is-all-you-need/')\n",
    "sys.path.insert(0, '../')"
   ]
  },
  {
   "cell_type": "code",
   "execution_count": 4,
   "metadata": {},
   "outputs": [],
   "source": [
    "import sentencepiece as spm\n",
    "import random\n",
    "import pandas as pd\n",
    "import os\n",
    "import numpy as np\n",
    "from setting import *\n",
    "from dataset import load_dataset"
   ]
  },
  {
   "cell_type": "code",
   "execution_count": 11,
   "metadata": {},
   "outputs": [
    {
     "name": "stdout",
     "output_type": "stream",
     "text": [
      "2.xlsx Index(['대분류', '소분류', '상황', 'Set Nr.', '발화자', 'kor', 'eng', 'label'], dtype='object')\n",
      "4.xlsx Index(['ID', '키워드', 'kor', 'NMT', 'PE', 'label'], dtype='object')\n",
      "1.xlsx Index(['Temp', 'kor', 'eng', 'label'], dtype='object')\n",
      "3.xlsx Index(['ID', '날짜', '자동분류_1', '자동분류_2', '자동분류_3', 'URL', '언론사', 'kor', 'NMT',\n",
      "       'PE', 'label'],\n",
      "      dtype='object')\n",
      "5.xlsx Index(['ID', '키워드', 'kor', 'NMT', 'PE', 'label'], dtype='object')\n",
      "6.xlsx Index(['ID', '지자체', '제목', 'URL', 'kor', 'NMT', 'PE', 'label'], dtype='object')\n"
     ]
    }
   ],
   "source": [
    "sent_pairs = []\n",
    "for f in os.listdir('../attention-is-all-you-need/data/'):\n",
    "    one_df = pd.read_excel(os.path.join('../attention-is-all-you-need/data', f))\n",
    "    one_df = one_df.rename(columns={\n",
    "        '영어':'eng',\n",
    "        '한국어':'kor',\n",
    "        '원문':'kor',\n",
    "        '영어 검수':'label',\n",
    "        '영어검수':'label',\n",
    "        'Review':'label',\n",
    "        'REVIEW':'label',\n",
    "    })\n",
    "    print(f, one_df.columns)\n",
    "    sent_pairs.extend(one_df[['kor','label']].values.tolist())"
   ]
  },
  {
   "cell_type": "code",
   "execution_count": 23,
   "metadata": {},
   "outputs": [],
   "source": [
    "with open('./spm_src.txt', 'w', encoding='utf-8') as f:\n",
    "    for sent in sent_pairs:\n",
    "        f.write('{}\\n'.format(sent[0]))"
   ]
  },
  {
   "cell_type": "code",
   "execution_count": 24,
   "metadata": {},
   "outputs": [],
   "source": [
    "with open('./spm_trg.txt', 'w', encoding='utf-8') as f:\n",
    "    for sent in sent_pairs:\n",
    "        f.write('{}\\n'.format(sent[1]))"
   ]
  },
  {
   "cell_type": "code",
   "execution_count": 29,
   "metadata": {},
   "outputs": [
    {
     "name": "stdout",
     "output_type": "stream",
     "text": [
      "   66262 ./spm_src.txt\r\n",
      "   66263 ./spm_trg.txt\r\n",
      "  132525 total\r\n"
     ]
    }
   ],
   "source": [
    "! wc -l ./spm_*.txt"
   ]
  },
  {
   "cell_type": "code",
   "execution_count": 30,
   "metadata": {},
   "outputs": [
    {
     "name": "stdout",
     "output_type": "stream",
     "text": [
      "다른 학교 친구들을 데려가도 될까요?\r\n",
      "부산미곡증권신탁회사는 조선총독부가 1930년대 초반 추진한 ‘신탁 합동’에 의해 1931년 해체되었다.\r\n",
      "“수탁자”라 함은 제6조제1항에 의하여 시설의 관리·운영을 위탁받은 법인·단체 또는 개인 등을 말한다.\r\n"
     ]
    }
   ],
   "source": [
    "! head -n 3 ./spm_src.txt"
   ]
  },
  {
   "cell_type": "code",
   "execution_count": 31,
   "metadata": {},
   "outputs": [
    {
     "name": "stdout",
     "output_type": "stream",
     "text": [
      "May I bring friends from another school?\r\n",
      "Busan Migok Trust Company closed its business in 1931 due to the \"Trust Cooperation\" promoted by Japanese Government General of Korea in the early 1930s.\r\n",
      "The term \"consignee\" means a corporation, organization, individual, etc. entrusted with the management and operation of facilities pursuant to Article 6 (1).\r\n"
     ]
    }
   ],
   "source": [
    "! head -n 3 ./spm_trg.txt"
   ]
  },
  {
   "cell_type": "code",
   "execution_count": 32,
   "metadata": {},
   "outputs": [],
   "source": [
    "random.shuffle(sent_pairs)"
   ]
  },
  {
   "cell_type": "code",
   "execution_count": 33,
   "metadata": {},
   "outputs": [
    {
     "data": {
      "text/plain": [
       "['다음 주부터 시험 기간이라 동아리 활동은 없어요. 모두 공부 열심히 해요.',\n",
       " 'There will be no club activity next week because of the exam. Study hard, everyone.']"
      ]
     },
     "execution_count": 33,
     "metadata": {},
     "output_type": "execute_result"
    }
   ],
   "source": [
    "sent_pairs[0]"
   ]
  },
  {
   "cell_type": "code",
   "execution_count": 34,
   "metadata": {},
   "outputs": [
    {
     "data": {
      "text/plain": [
       "('spm-src-20000', 'spm-trg-16000')"
      ]
     },
     "execution_count": 34,
     "metadata": {},
     "output_type": "execute_result"
    }
   ],
   "source": [
    "src_vocab_size = 20000  # 50000\n",
    "trg_vocab_size = 16000  # 32000\n",
    "src_prefix = 'spm-src-{}'.format(src_vocab_size)\n",
    "trg_prefix = 'spm-trg-{}'.format(trg_vocab_size)\n",
    "src_prefix, trg_prefix"
   ]
  },
  {
   "cell_type": "code",
   "execution_count": 35,
   "metadata": {},
   "outputs": [
    {
     "data": {
      "text/plain": [
       "'--input=./spm_src.txt --pad_id=0 --bos_id=1 --eos_id=2 --unk_id=3 --model_prefix=spm-src-20000 --vocab_size=20000 --character_coverage=1.0 --model_type=unigram'"
      ]
     },
     "execution_count": 35,
     "metadata": {},
     "output_type": "execute_result"
    }
   ],
   "source": [
    "src_cmd = templates.format(\n",
    "    src_input_file,\n",
    "    pad_id,\n",
    "    bos_id,\n",
    "    eos_id,\n",
    "    unk_id,\n",
    "    src_prefix,\n",
    "    src_vocab_size,\n",
    "    character_coverage,\n",
    "    model_type)\n",
    "src_cmd"
   ]
  },
  {
   "cell_type": "code",
   "execution_count": 36,
   "metadata": {},
   "outputs": [
    {
     "data": {
      "text/plain": [
       "'--input=./spm_trg.txt --pad_id=0 --bos_id=1 --eos_id=2 --unk_id=3 --model_prefix=spm-trg-16000 --vocab_size=16000 --character_coverage=1.0 --model_type=unigram'"
      ]
     },
     "execution_count": 36,
     "metadata": {},
     "output_type": "execute_result"
    }
   ],
   "source": [
    "trg_cmd = templates.format(\n",
    "    trg_input_file,\n",
    "    pad_id,\n",
    "    bos_id,\n",
    "    eos_id,\n",
    "    unk_id,\n",
    "    trg_prefix,\n",
    "    trg_vocab_size,\n",
    "    character_coverage,\n",
    "    model_type)\n",
    "trg_cmd"
   ]
  },
  {
   "cell_type": "code",
   "execution_count": 37,
   "metadata": {},
   "outputs": [
    {
     "data": {
      "text/plain": [
       "True"
      ]
     },
     "execution_count": 37,
     "metadata": {},
     "output_type": "execute_result"
    }
   ],
   "source": [
    "spm.SentencePieceTrainer.Train(src_cmd)\n",
    "spm.SentencePieceTrainer.Train(trg_cmd)"
   ]
  },
  {
   "cell_type": "code",
   "execution_count": 41,
   "metadata": {},
   "outputs": [
    {
     "name": "stdout",
     "output_type": "stream",
     "text": [
      "-rw-r--r-- 1 jkfirst deep-learners 605K  3월 25 13:20 spm-src-20000.model\r\n",
      "-rw-r--r-- 1 jkfirst deep-learners 508K  3월 25 13:20 spm-trg-16000.model\r\n"
     ]
    }
   ],
   "source": [
    "! ls -alh *.model"
   ]
  },
  {
   "cell_type": "code",
   "execution_count": 43,
   "metadata": {},
   "outputs": [
    {
     "data": {
      "text/plain": [
       "True"
      ]
     },
     "execution_count": 43,
     "metadata": {},
     "output_type": "execute_result"
    }
   ],
   "source": [
    "src_spm = spm.SentencePieceProcessor()\n",
    "trg_spm = spm.SentencePieceProcessor()\n",
    "src_spm.Load('{}.model'.format(src_prefix)) \n",
    "trg_spm.Load('{}.model'.format(trg_prefix))"
   ]
  },
  {
   "cell_type": "code",
   "execution_count": 44,
   "metadata": {},
   "outputs": [
    {
     "data": {
      "text/plain": [
       "['<pad>\\t0',\n",
       " '<s>\\t0',\n",
       " '</s>\\t0',\n",
       " '<unk>\\t0',\n",
       " '.\\t-3.26792',\n",
       " '을\\t-3.6955',\n",
       " '의\\t-3.95254',\n",
       " '를\\t-4.15871',\n",
       " '▁\\t-4.16494',\n",
       " ',\\t-4.24634']"
      ]
     },
     "execution_count": 44,
     "metadata": {},
     "output_type": "execute_result"
    }
   ],
   "source": [
    "with open('{}.vocab'.format(src_prefix), encoding='utf-8') as f:\n",
    "    src_vocab = [doc.strip() for doc in f]\n",
    "src_vocab[:10]"
   ]
  },
  {
   "cell_type": "code",
   "execution_count": 45,
   "metadata": {},
   "outputs": [
    {
     "data": {
      "text/plain": [
       "['<pad>\\t0',\n",
       " '<s>\\t0',\n",
       " '</s>\\t0',\n",
       " '<unk>\\t0',\n",
       " '▁the\\t-2.7476',\n",
       " ',\\t-3.29956',\n",
       " '▁of\\t-3.32764',\n",
       " '.\\t-3.49639',\n",
       " '▁and\\t-3.78203',\n",
       " '▁to\\t-3.79164']"
      ]
     },
     "execution_count": 45,
     "metadata": {},
     "output_type": "execute_result"
    }
   ],
   "source": [
    "with open('{}.vocab'.format(trg_prefix), encoding='utf-8') as f:\n",
    "    trg_vocab = [doc.strip() for doc in f]\n",
    "trg_vocab[:10]"
   ]
  },
  {
   "cell_type": "code",
   "execution_count": 46,
   "metadata": {},
   "outputs": [
    {
     "data": {
      "text/plain": [
       "['▁“',\n",
       " '이',\n",
       " '거',\n",
       " '▁오래',\n",
       " '▁입을',\n",
       " '▁수',\n",
       " '▁있을까',\n",
       " '”',\n",
       " '▁“',\n",
       " '얼',\n",
       " '마',\n",
       " '나',\n",
       " '▁자주',\n",
       " '▁입을',\n",
       " '까',\n",
       " '”',\n",
       " '▁“',\n",
       " '옷',\n",
       " '이',\n",
       " '▁투자',\n",
       " '할',\n",
       " '▁만한',\n",
       " '▁가치',\n",
       " '가',\n",
       " '▁있는',\n",
       " '가',\n",
       " '”',\n",
       " '▁하는',\n",
       " '▁질문',\n",
       " '입니다',\n",
       " '.']"
      ]
     },
     "execution_count": 46,
     "metadata": {},
     "output_type": "execute_result"
    }
   ],
   "source": [
    "idx = np.random.randint(0, len(sent_pairs))\n",
    "idx\n",
    "src_spm.EncodeAsPieces(sent_pairs[idx][0])"
   ]
  },
  {
   "cell_type": "code",
   "execution_count": 47,
   "metadata": {},
   "outputs": [
    {
     "data": {
      "text/plain": [
       "['▁Thank',\n",
       " '▁you',\n",
       " '▁for',\n",
       " '▁your',\n",
       " '▁interest',\n",
       " '▁in',\n",
       " '▁our',\n",
       " '▁shutt',\n",
       " 'le',\n",
       " '▁service',\n",
       " '.',\n",
       " '▁What',\n",
       " '▁might',\n",
       " '▁the',\n",
       " '▁matter',\n",
       " '▁be',\n",
       " '?']"
      ]
     },
     "execution_count": 47,
     "metadata": {},
     "output_type": "execute_result"
    }
   ],
   "source": [
    "idx = np.random.randint(0, len(sent_pairs))\n",
    "trg_spm.EncodeAsPieces(sent_pairs[idx][1])"
   ]
  },
  {
   "cell_type": "code",
   "execution_count": 48,
   "metadata": {},
   "outputs": [
    {
     "data": {
      "text/plain": [
       "(['▁“',\n",
       "  '정',\n",
       "  '보',\n",
       "  '주',\n",
       "  '체',\n",
       "  '”',\n",
       "  '란',\n",
       "  '▁',\n",
       "  '영',\n",
       "  '상',\n",
       "  '정',\n",
       "  '보',\n",
       "  '에',\n",
       "  '▁',\n",
       "  '의',\n",
       "  '하',\n",
       "  '여',\n",
       "  '▁',\n",
       "  '식',\n",
       "  '별',\n",
       "  '되',\n",
       "  '는',\n",
       "  '▁',\n",
       "  '사',\n",
       "  '람',\n",
       "  '으',\n",
       "  '로',\n",
       "  '서',\n",
       "  '▁',\n",
       "  '해',\n",
       "  '당',\n",
       "  '▁',\n",
       "  '영',\n",
       "  '상',\n",
       "  '정',\n",
       "  '보',\n",
       "  '의',\n",
       "  '▁',\n",
       "  '주',\n",
       "  '체',\n",
       "  '가',\n",
       "  '▁',\n",
       "  '되',\n",
       "  '는',\n",
       "  '▁',\n",
       "  '자',\n",
       "  '연',\n",
       "  '인',\n",
       "  '을',\n",
       "  '▁',\n",
       "  '말',\n",
       "  '한',\n",
       "  '다',\n",
       "  '.'],\n",
       " ['▁The',\n",
       "  '▁term',\n",
       "  '▁\"',\n",
       "  'information',\n",
       "  '▁object',\n",
       "  '\"',\n",
       "  '▁means',\n",
       "  '▁a',\n",
       "  '▁person',\n",
       "  '▁identified',\n",
       "  '▁by',\n",
       "  '▁video',\n",
       "  '▁information',\n",
       "  ',',\n",
       "  '▁who',\n",
       "  '▁is',\n",
       "  '▁the',\n",
       "  '▁subject',\n",
       "  '▁of',\n",
       "  '▁the',\n",
       "  '▁relevan',\n",
       "  't',\n",
       "  '▁video',\n",
       "  '▁information',\n",
       "  '.'])"
      ]
     },
     "execution_count": 48,
     "metadata": {},
     "output_type": "execute_result"
    }
   ],
   "source": [
    "idx = np.random.randint(0, len(sent_pairs))\n",
    "src_sent = trg_spm.EncodeAsPieces(sent_pairs[idx][0])\n",
    "trg_sent = trg_spm.EncodeAsPieces(sent_pairs[idx][1])\n",
    "src_sent, trg_sent"
   ]
  },
  {
   "cell_type": "code",
   "execution_count": null,
   "metadata": {},
   "outputs": [],
   "source": []
  }
 ],
 "metadata": {
  "kernelspec": {
   "display_name": "env",
   "language": "python",
   "name": "env"
  },
  "language_info": {
   "codemirror_mode": {
    "name": "ipython",
    "version": 3
   },
   "file_extension": ".py",
   "mimetype": "text/x-python",
   "name": "python",
   "nbconvert_exporter": "python",
   "pygments_lexer": "ipython3",
   "version": "3.6.8"
  }
 },
 "nbformat": 4,
 "nbformat_minor": 4
}
