{
 "cells": [
  {
   "cell_type": "markdown",
   "metadata": {},
   "source": [
    "reference:\n",
    "- https://github.com/AzizCode92/Listen-Attend-and-Spell-Pytorch"
   ]
  },
  {
   "cell_type": "code",
   "execution_count": 5,
   "metadata": {},
   "outputs": [],
   "source": [
    "import pandas as pd\n",
    "import os"
   ]
  },
  {
   "cell_type": "code",
   "execution_count": 6,
   "metadata": {},
   "outputs": [],
   "source": [
    "path = '/data_hdd/stt/LibriSpeech/'"
   ]
  },
  {
   "cell_type": "code",
   "execution_count": 8,
   "metadata": {},
   "outputs": [],
   "source": [
    "idx2char_df = pd.read_csv(os.path.join(path, 'idx2chap.csv'))\n",
    "train_df = pd.read_csv(os.path.join(path, 'train.csv'))"
   ]
  },
  {
   "cell_type": "code",
   "execution_count": 17,
   "metadata": {},
   "outputs": [],
   "source": [
    "def idx2char(idx):\n",
    "    idx = list(map(int, idx.split()))\n",
    "    return ''.join(list(map(lambda x: charmap[x], idx)))"
   ]
  },
  {
   "cell_type": "code",
   "execution_count": 18,
   "metadata": {},
   "outputs": [],
   "source": [
    "charmap = {i:c for i, c in zip(idx2char_df.idx, idx2char_df.char)}"
   ]
  },
  {
   "cell_type": "code",
   "execution_count": 21,
   "metadata": {},
   "outputs": [
    {
     "data": {
      "text/plain": [
       "{0: '<sos>',\n",
       " 1: '<eos>',\n",
       " 2: 'T',\n",
       " 3: 'H',\n",
       " 4: 'E',\n",
       " 5: 'R',\n",
       " 6: ' ',\n",
       " 7: 'W',\n",
       " 8: 'A',\n",
       " 9: 'S',\n",
       " 10: 'O',\n",
       " 11: 'F',\n",
       " 12: 'C',\n",
       " 13: 'U',\n",
       " 14: 'N',\n",
       " 15: 'L',\n",
       " 16: 'G',\n",
       " 17: 'I',\n",
       " 18: 'Y',\n",
       " 19: 'D',\n",
       " 20: 'K',\n",
       " 21: 'M',\n",
       " 22: 'B',\n",
       " 23: 'P',\n",
       " 24: 'Q',\n",
       " 25: 'V',\n",
       " 26: 'X',\n",
       " 27: \"'\",\n",
       " 28: 'Z',\n",
       " 29: 'J'}"
      ]
     },
     "execution_count": 21,
     "metadata": {},
     "output_type": "execute_result"
    }
   ],
   "source": [
    "charmap"
   ]
  },
  {
   "cell_type": "code",
   "execution_count": 19,
   "metadata": {},
   "outputs": [],
   "source": [
    "train_df['text'] = train_df.label.apply(idx2char)"
   ]
  },
  {
   "cell_type": "code",
   "execution_count": 20,
   "metadata": {},
   "outputs": [
    {
     "data": {
      "text/html": [
       "<div>\n",
       "<style scoped>\n",
       "    .dataframe tbody tr th:only-of-type {\n",
       "        vertical-align: middle;\n",
       "    }\n",
       "\n",
       "    .dataframe tbody tr th {\n",
       "        vertical-align: top;\n",
       "    }\n",
       "\n",
       "    .dataframe thead th {\n",
       "        text-align: right;\n",
       "    }\n",
       "</style>\n",
       "<table border=\"1\" class=\"dataframe\">\n",
       "  <thead>\n",
       "    <tr style=\"text-align: right;\">\n",
       "      <th></th>\n",
       "      <th>idx</th>\n",
       "      <th>input</th>\n",
       "      <th>label</th>\n",
       "      <th>text</th>\n",
       "    </tr>\n",
       "  </thead>\n",
       "  <tbody>\n",
       "    <tr>\n",
       "      <th>0</th>\n",
       "      <td>0</td>\n",
       "      <td>/data_hdd/stt/LibriSpeech/train-clean-100/7859...</td>\n",
       "      <td>2 3 4 5 4 6 7 8 9 6 10 11 6 12 10 13 5 9 4 6 ...</td>\n",
       "      <td>THERE WAS OF COURSE NO LEGALITY IN THE ACT AND...</td>\n",
       "    </tr>\n",
       "    <tr>\n",
       "      <th>1</th>\n",
       "      <td>1</td>\n",
       "      <td>/data_hdd/stt/LibriSpeech/train-clean-100/5652...</td>\n",
       "      <td>17 11 6 7 4 6 2 8 20 4 6 17 2 6 17 14 6 2 3 4...</td>\n",
       "      <td>IF WE TAKE IT IN THE WIDEST MEANING THIS WOULD...</td>\n",
       "    </tr>\n",
       "    <tr>\n",
       "      <th>2</th>\n",
       "      <td>2</td>\n",
       "      <td>/data_hdd/stt/LibriSpeech/train-clean-100/298/...</td>\n",
       "      <td>2 5 13 4 6 2 5 13 4 6 12 5 17 4 19 6 2 3 4 6 ...</td>\n",
       "      <td>TRUE TRUE CRIED THE COLONEL WITH ANIMATION HAD...</td>\n",
       "    </tr>\n",
       "    <tr>\n",
       "      <th>3</th>\n",
       "      <td>3</td>\n",
       "      <td>/data_hdd/stt/LibriSpeech/train-clean-100/3699...</td>\n",
       "      <td>2 3 4 14 6 7 3 8 2 6 8 21 13 9 17 14 16 6 17 ...</td>\n",
       "      <td>THEN WHAT AMUSING INNUENDOES OF THE MILBY GENT...</td>\n",
       "    </tr>\n",
       "    <tr>\n",
       "      <th>4</th>\n",
       "      <td>4</td>\n",
       "      <td>/data_hdd/stt/LibriSpeech/train-clean-100/3699...</td>\n",
       "      <td>2 3 10 13 16 3 6 2 3 4 6 12 10 5 23 10 5 8 15...</td>\n",
       "      <td>THOUGH THE CORPORAL HAD BEEN AS GOOD AS HIS WO...</td>\n",
       "    </tr>\n",
       "  </tbody>\n",
       "</table>\n",
       "</div>"
      ],
      "text/plain": [
       "   idx                                              input  \\\n",
       "0    0  /data_hdd/stt/LibriSpeech/train-clean-100/7859...   \n",
       "1    1  /data_hdd/stt/LibriSpeech/train-clean-100/5652...   \n",
       "2    2  /data_hdd/stt/LibriSpeech/train-clean-100/298/...   \n",
       "3    3  /data_hdd/stt/LibriSpeech/train-clean-100/3699...   \n",
       "4    4  /data_hdd/stt/LibriSpeech/train-clean-100/3699...   \n",
       "\n",
       "                                               label  \\\n",
       "0   2 3 4 5 4 6 7 8 9 6 10 11 6 12 10 13 5 9 4 6 ...   \n",
       "1   17 11 6 7 4 6 2 8 20 4 6 17 2 6 17 14 6 2 3 4...   \n",
       "2   2 5 13 4 6 2 5 13 4 6 12 5 17 4 19 6 2 3 4 6 ...   \n",
       "3   2 3 4 14 6 7 3 8 2 6 8 21 13 9 17 14 16 6 17 ...   \n",
       "4   2 3 10 13 16 3 6 2 3 4 6 12 10 5 23 10 5 8 15...   \n",
       "\n",
       "                                                text  \n",
       "0  THERE WAS OF COURSE NO LEGALITY IN THE ACT AND...  \n",
       "1  IF WE TAKE IT IN THE WIDEST MEANING THIS WOULD...  \n",
       "2  TRUE TRUE CRIED THE COLONEL WITH ANIMATION HAD...  \n",
       "3  THEN WHAT AMUSING INNUENDOES OF THE MILBY GENT...  \n",
       "4  THOUGH THE CORPORAL HAD BEEN AS GOOD AS HIS WO...  "
      ]
     },
     "execution_count": 20,
     "metadata": {},
     "output_type": "execute_result"
    }
   ],
   "source": [
    "train_df.head(5)"
   ]
  },
  {
   "cell_type": "code",
   "execution_count": null,
   "metadata": {},
   "outputs": [],
   "source": []
  },
  {
   "cell_type": "markdown",
   "metadata": {},
   "source": [
    "#### one-command to run train"
   ]
  },
  {
   "cell_type": "raw",
   "metadata": {},
   "source": [
    "(env) jkfirst@myserver:~$ python train_libri.py ./config/las_libri_config.yaml"
   ]
  }
 ],
 "metadata": {
  "kernelspec": {
   "display_name": "las",
   "language": "python",
   "name": "env_las"
  },
  "language_info": {
   "codemirror_mode": {
    "name": "ipython",
    "version": 3
   },
   "file_extension": ".py",
   "mimetype": "text/x-python",
   "name": "python",
   "nbconvert_exporter": "python",
   "pygments_lexer": "ipython3",
   "version": "3.6.9"
  }
 },
 "nbformat": 4,
 "nbformat_minor": 4
}
